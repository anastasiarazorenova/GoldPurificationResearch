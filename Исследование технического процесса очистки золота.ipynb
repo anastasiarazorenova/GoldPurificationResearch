{
 "cells": [
  {
   "cell_type": "markdown",
   "metadata": {
    "toc": true
   },
   "source": [
    "<h1>Содержание<span class=\"tocSkip\"></span></h1>\n",
    "<div class=\"toc\"><ul class=\"toc-item\"><li><span><a href=\"#Подготовка-данных\" data-toc-modified-id=\"Подготовка-данных-1\"><span class=\"toc-item-num\">1&nbsp;&nbsp;</span>Подготовка данных</a></span></li><li><span><a href=\"#Анализ-данных\" data-toc-modified-id=\"Анализ-данных-2\"><span class=\"toc-item-num\">2&nbsp;&nbsp;</span>Анализ данных</a></span></li><li><span><a href=\"#Модель\" data-toc-modified-id=\"Модель-3\"><span class=\"toc-item-num\">3&nbsp;&nbsp;</span>Модель</a></span><ul class=\"toc-item\"><li><span><a href=\"#Дерево-решений\" data-toc-modified-id=\"Дерево-решений-3.1\"><span class=\"toc-item-num\">3.1&nbsp;&nbsp;</span>Дерево решений</a></span></li><li><span><a href=\"#Случайный-лес\" data-toc-modified-id=\"Случайный-лес-3.2\"><span class=\"toc-item-num\">3.2&nbsp;&nbsp;</span>Случайный лес</a></span></li><li><span><a href=\"#Линейная-регрессия\" data-toc-modified-id=\"Линейная-регрессия-3.3\"><span class=\"toc-item-num\">3.3&nbsp;&nbsp;</span>Линейная регрессия</a></span></li></ul></li><li><span><a href=\"#Вывод\" data-toc-modified-id=\"Вывод-4\"><span class=\"toc-item-num\">4&nbsp;&nbsp;</span>Вывод</a></span></li></div>"
   ]
  },
  {
   "cell_type": "markdown",
   "metadata": {},
   "source": [
    "# Описание проекта"
   ]
  },
  {
   "cell_type": "markdown",
   "metadata": {},
   "source": [
    "## Цель проекта"
   ]
  },
  {
   "cell_type": "markdown",
   "metadata": {},
   "source": [
    "Цель данного проекта заключается в разработке прототипа модели машинного обучения, которая должна предсказывать коэффициент восстановления золота из золотосодержащей руды основываясь на данных с параметрами добычи и отчистки. \n",
    "\n",
    "Модель поможет оптимизировать производство, чтобы не запускать предприятие с убыточными характеристиками."
   ]
  },
  {
   "cell_type": "markdown",
   "metadata": {},
   "source": [
    "## Структура проекта"
   ]
  },
  {
   "cell_type": "markdown",
   "metadata": {},
   "source": [
    "Проект разделен на три основные части:\n",
    "\n",
    "1. **Обработка и анализ данных**\n",
    "   - Подробное описание исходных данных и их структуры.\n",
    "   - Предварительный анализ данных и выявление основных характеристик.\n",
    "   - Визуализация данных для лучшего понимания.\n",
    "   \n",
    "2. **Обучение моделей**\n",
    "   - Введение в разработку и обучение моделей.\n",
    "   - Декомпозиция задачи на локальные задачи.\n",
    "   - Описание методологии и методов обучения моделей.\n",
    "   - Подбор и обучение моделей.\n",
    "\n",
    "3. **Подведение итогов**\n",
    "   - Выводы из анализа данных и обучения моделей.\n",
    "   - Оценка результатов моделирования и их интерпретация.\n",
    "   - Рекомендации на основе полученных результатов."
   ]
  },
  {
   "cell_type": "markdown",
   "metadata": {},
   "source": [
    "## Подготовка данных"
   ]
  },
  {
   "cell_type": "markdown",
   "metadata": {},
   "source": [
    "В начале работы загружаем все необходимые нам библиотеки и дополнения."
   ]
  },
  {
   "cell_type": "code",
   "execution_count": 1,
   "metadata": {},
   "outputs": [],
   "source": [
    "import pandas as pd\n",
    "import numpy as np\n",
    "import matplotlib.pyplot as plt\n",
    "import seaborn as sns\n",
    "from sklearn.tree import DecisionTreeRegressor\n",
    "from sklearn.ensemble import RandomForestRegressor\n",
    "from sklearn.linear_model import LinearRegression\n",
    "from sklearn.metrics import mean_absolute_error\n",
    "from sklearn.metrics import make_scorer \n",
    "from sklearn.model_selection import cross_val_score\n",
    "from sklearn.dummy import DummyRegressor"
   ]
  },
  {
   "cell_type": "code",
   "execution_count": 2,
   "metadata": {},
   "outputs": [],
   "source": [
    "data_full=pd.read_csv('/datasets/gold_recovery_full_new.csv')\n",
    "data_test=pd.read_csv('/datasets/gold_recovery_test_new.csv')\n",
    "data_train=pd.read_csv('/datasets/gold_recovery_train_new.csv')"
   ]
  },
  {
   "cell_type": "markdown",
   "metadata": {},
   "source": [
    "Сохраним имеющиеся данные из файлов в отдельные переменные и изучим их подробнее."
   ]
  },
  {
   "cell_type": "code",
   "execution_count": 3,
   "metadata": {},
   "outputs": [
    {
     "data": {
      "text/html": [
       "<div>\n",
       "<style scoped>\n",
       "    .dataframe tbody tr th:only-of-type {\n",
       "        vertical-align: middle;\n",
       "    }\n",
       "\n",
       "    .dataframe tbody tr th {\n",
       "        vertical-align: top;\n",
       "    }\n",
       "\n",
       "    .dataframe thead th {\n",
       "        text-align: right;\n",
       "    }\n",
       "</style>\n",
       "<table border=\"1\" class=\"dataframe\">\n",
       "  <thead>\n",
       "    <tr style=\"text-align: right;\">\n",
       "      <th></th>\n",
       "      <th>date</th>\n",
       "      <th>final.output.concentrate_ag</th>\n",
       "      <th>final.output.concentrate_pb</th>\n",
       "      <th>final.output.concentrate_sol</th>\n",
       "      <th>final.output.concentrate_au</th>\n",
       "      <th>final.output.recovery</th>\n",
       "      <th>final.output.tail_ag</th>\n",
       "      <th>final.output.tail_pb</th>\n",
       "      <th>final.output.tail_sol</th>\n",
       "      <th>final.output.tail_au</th>\n",
       "      <th>...</th>\n",
       "      <th>secondary_cleaner.state.floatbank4_a_air</th>\n",
       "      <th>secondary_cleaner.state.floatbank4_a_level</th>\n",
       "      <th>secondary_cleaner.state.floatbank4_b_air</th>\n",
       "      <th>secondary_cleaner.state.floatbank4_b_level</th>\n",
       "      <th>secondary_cleaner.state.floatbank5_a_air</th>\n",
       "      <th>secondary_cleaner.state.floatbank5_a_level</th>\n",
       "      <th>secondary_cleaner.state.floatbank5_b_air</th>\n",
       "      <th>secondary_cleaner.state.floatbank5_b_level</th>\n",
       "      <th>secondary_cleaner.state.floatbank6_a_air</th>\n",
       "      <th>secondary_cleaner.state.floatbank6_a_level</th>\n",
       "    </tr>\n",
       "  </thead>\n",
       "  <tbody>\n",
       "    <tr>\n",
       "      <th>0</th>\n",
       "      <td>2016-01-15 00:00:00</td>\n",
       "      <td>6.055403</td>\n",
       "      <td>9.889648</td>\n",
       "      <td>5.507324</td>\n",
       "      <td>42.192020</td>\n",
       "      <td>70.541216</td>\n",
       "      <td>10.411962</td>\n",
       "      <td>0.895447</td>\n",
       "      <td>16.904297</td>\n",
       "      <td>2.143149</td>\n",
       "      <td>...</td>\n",
       "      <td>14.016835</td>\n",
       "      <td>-502.488007</td>\n",
       "      <td>12.099931</td>\n",
       "      <td>-504.715942</td>\n",
       "      <td>9.925633</td>\n",
       "      <td>-498.310211</td>\n",
       "      <td>8.079666</td>\n",
       "      <td>-500.470978</td>\n",
       "      <td>14.151341</td>\n",
       "      <td>-605.841980</td>\n",
       "    </tr>\n",
       "    <tr>\n",
       "      <th>1</th>\n",
       "      <td>2016-01-15 01:00:00</td>\n",
       "      <td>6.029369</td>\n",
       "      <td>9.968944</td>\n",
       "      <td>5.257781</td>\n",
       "      <td>42.701629</td>\n",
       "      <td>69.266198</td>\n",
       "      <td>10.462676</td>\n",
       "      <td>0.927452</td>\n",
       "      <td>16.634514</td>\n",
       "      <td>2.224930</td>\n",
       "      <td>...</td>\n",
       "      <td>13.992281</td>\n",
       "      <td>-505.503262</td>\n",
       "      <td>11.950531</td>\n",
       "      <td>-501.331529</td>\n",
       "      <td>10.039245</td>\n",
       "      <td>-500.169983</td>\n",
       "      <td>7.984757</td>\n",
       "      <td>-500.582168</td>\n",
       "      <td>13.998353</td>\n",
       "      <td>-599.787184</td>\n",
       "    </tr>\n",
       "    <tr>\n",
       "      <th>2</th>\n",
       "      <td>2016-01-15 02:00:00</td>\n",
       "      <td>6.055926</td>\n",
       "      <td>10.213995</td>\n",
       "      <td>5.383759</td>\n",
       "      <td>42.657501</td>\n",
       "      <td>68.116445</td>\n",
       "      <td>10.507046</td>\n",
       "      <td>0.953716</td>\n",
       "      <td>16.208849</td>\n",
       "      <td>2.257889</td>\n",
       "      <td>...</td>\n",
       "      <td>14.015015</td>\n",
       "      <td>-502.520901</td>\n",
       "      <td>11.912783</td>\n",
       "      <td>-501.133383</td>\n",
       "      <td>10.070913</td>\n",
       "      <td>-500.129135</td>\n",
       "      <td>8.013877</td>\n",
       "      <td>-500.517572</td>\n",
       "      <td>14.028663</td>\n",
       "      <td>-601.427363</td>\n",
       "    </tr>\n",
       "    <tr>\n",
       "      <th>3</th>\n",
       "      <td>2016-01-15 03:00:00</td>\n",
       "      <td>6.047977</td>\n",
       "      <td>9.977019</td>\n",
       "      <td>4.858634</td>\n",
       "      <td>42.689819</td>\n",
       "      <td>68.347543</td>\n",
       "      <td>10.422762</td>\n",
       "      <td>0.883763</td>\n",
       "      <td>16.532835</td>\n",
       "      <td>2.146849</td>\n",
       "      <td>...</td>\n",
       "      <td>14.036510</td>\n",
       "      <td>-500.857308</td>\n",
       "      <td>11.999550</td>\n",
       "      <td>-501.193686</td>\n",
       "      <td>9.970366</td>\n",
       "      <td>-499.201640</td>\n",
       "      <td>7.977324</td>\n",
       "      <td>-500.255908</td>\n",
       "      <td>14.005551</td>\n",
       "      <td>-599.996129</td>\n",
       "    </tr>\n",
       "    <tr>\n",
       "      <th>4</th>\n",
       "      <td>2016-01-15 04:00:00</td>\n",
       "      <td>6.148599</td>\n",
       "      <td>10.142511</td>\n",
       "      <td>4.939416</td>\n",
       "      <td>42.774141</td>\n",
       "      <td>66.927016</td>\n",
       "      <td>10.360302</td>\n",
       "      <td>0.792826</td>\n",
       "      <td>16.525686</td>\n",
       "      <td>2.055292</td>\n",
       "      <td>...</td>\n",
       "      <td>14.027298</td>\n",
       "      <td>-499.838632</td>\n",
       "      <td>11.953070</td>\n",
       "      <td>-501.053894</td>\n",
       "      <td>9.925709</td>\n",
       "      <td>-501.686727</td>\n",
       "      <td>7.894242</td>\n",
       "      <td>-500.356035</td>\n",
       "      <td>13.996647</td>\n",
       "      <td>-601.496691</td>\n",
       "    </tr>\n",
       "  </tbody>\n",
       "</table>\n",
       "<p>5 rows × 87 columns</p>\n",
       "</div>"
      ],
      "text/plain": [
       "                  date  final.output.concentrate_ag  \\\n",
       "0  2016-01-15 00:00:00                     6.055403   \n",
       "1  2016-01-15 01:00:00                     6.029369   \n",
       "2  2016-01-15 02:00:00                     6.055926   \n",
       "3  2016-01-15 03:00:00                     6.047977   \n",
       "4  2016-01-15 04:00:00                     6.148599   \n",
       "\n",
       "   final.output.concentrate_pb  final.output.concentrate_sol  \\\n",
       "0                     9.889648                      5.507324   \n",
       "1                     9.968944                      5.257781   \n",
       "2                    10.213995                      5.383759   \n",
       "3                     9.977019                      4.858634   \n",
       "4                    10.142511                      4.939416   \n",
       "\n",
       "   final.output.concentrate_au  final.output.recovery  final.output.tail_ag  \\\n",
       "0                    42.192020              70.541216             10.411962   \n",
       "1                    42.701629              69.266198             10.462676   \n",
       "2                    42.657501              68.116445             10.507046   \n",
       "3                    42.689819              68.347543             10.422762   \n",
       "4                    42.774141              66.927016             10.360302   \n",
       "\n",
       "   final.output.tail_pb  final.output.tail_sol  final.output.tail_au  ...  \\\n",
       "0              0.895447              16.904297              2.143149  ...   \n",
       "1              0.927452              16.634514              2.224930  ...   \n",
       "2              0.953716              16.208849              2.257889  ...   \n",
       "3              0.883763              16.532835              2.146849  ...   \n",
       "4              0.792826              16.525686              2.055292  ...   \n",
       "\n",
       "   secondary_cleaner.state.floatbank4_a_air  \\\n",
       "0                                 14.016835   \n",
       "1                                 13.992281   \n",
       "2                                 14.015015   \n",
       "3                                 14.036510   \n",
       "4                                 14.027298   \n",
       "\n",
       "   secondary_cleaner.state.floatbank4_a_level  \\\n",
       "0                                 -502.488007   \n",
       "1                                 -505.503262   \n",
       "2                                 -502.520901   \n",
       "3                                 -500.857308   \n",
       "4                                 -499.838632   \n",
       "\n",
       "   secondary_cleaner.state.floatbank4_b_air  \\\n",
       "0                                 12.099931   \n",
       "1                                 11.950531   \n",
       "2                                 11.912783   \n",
       "3                                 11.999550   \n",
       "4                                 11.953070   \n",
       "\n",
       "   secondary_cleaner.state.floatbank4_b_level  \\\n",
       "0                                 -504.715942   \n",
       "1                                 -501.331529   \n",
       "2                                 -501.133383   \n",
       "3                                 -501.193686   \n",
       "4                                 -501.053894   \n",
       "\n",
       "   secondary_cleaner.state.floatbank5_a_air  \\\n",
       "0                                  9.925633   \n",
       "1                                 10.039245   \n",
       "2                                 10.070913   \n",
       "3                                  9.970366   \n",
       "4                                  9.925709   \n",
       "\n",
       "   secondary_cleaner.state.floatbank5_a_level  \\\n",
       "0                                 -498.310211   \n",
       "1                                 -500.169983   \n",
       "2                                 -500.129135   \n",
       "3                                 -499.201640   \n",
       "4                                 -501.686727   \n",
       "\n",
       "   secondary_cleaner.state.floatbank5_b_air  \\\n",
       "0                                  8.079666   \n",
       "1                                  7.984757   \n",
       "2                                  8.013877   \n",
       "3                                  7.977324   \n",
       "4                                  7.894242   \n",
       "\n",
       "   secondary_cleaner.state.floatbank5_b_level  \\\n",
       "0                                 -500.470978   \n",
       "1                                 -500.582168   \n",
       "2                                 -500.517572   \n",
       "3                                 -500.255908   \n",
       "4                                 -500.356035   \n",
       "\n",
       "   secondary_cleaner.state.floatbank6_a_air  \\\n",
       "0                                 14.151341   \n",
       "1                                 13.998353   \n",
       "2                                 14.028663   \n",
       "3                                 14.005551   \n",
       "4                                 13.996647   \n",
       "\n",
       "   secondary_cleaner.state.floatbank6_a_level  \n",
       "0                                 -605.841980  \n",
       "1                                 -599.787184  \n",
       "2                                 -601.427363  \n",
       "3                                 -599.996129  \n",
       "4                                 -601.496691  \n",
       "\n",
       "[5 rows x 87 columns]"
      ]
     },
     "metadata": {},
     "output_type": "display_data"
    },
    {
     "name": "stdout",
     "output_type": "stream",
     "text": [
      "<class 'pandas.core.frame.DataFrame'>\n",
      "RangeIndex: 19439 entries, 0 to 19438\n",
      "Data columns (total 87 columns):\n",
      " #   Column                                              Non-Null Count  Dtype  \n",
      "---  ------                                              --------------  -----  \n",
      " 0   date                                                19439 non-null  object \n",
      " 1   final.output.concentrate_ag                         19438 non-null  float64\n",
      " 2   final.output.concentrate_pb                         19438 non-null  float64\n",
      " 3   final.output.concentrate_sol                        19228 non-null  float64\n",
      " 4   final.output.concentrate_au                         19439 non-null  float64\n",
      " 5   final.output.recovery                               19439 non-null  float64\n",
      " 6   final.output.tail_ag                                19438 non-null  float64\n",
      " 7   final.output.tail_pb                                19338 non-null  float64\n",
      " 8   final.output.tail_sol                               19433 non-null  float64\n",
      " 9   final.output.tail_au                                19439 non-null  float64\n",
      " 10  primary_cleaner.input.sulfate                       19415 non-null  float64\n",
      " 11  primary_cleaner.input.depressant                    19402 non-null  float64\n",
      " 12  primary_cleaner.input.feed_size                     19439 non-null  float64\n",
      " 13  primary_cleaner.input.xanthate                      19335 non-null  float64\n",
      " 14  primary_cleaner.output.concentrate_ag               19439 non-null  float64\n",
      " 15  primary_cleaner.output.concentrate_pb               19323 non-null  float64\n",
      " 16  primary_cleaner.output.concentrate_sol              19069 non-null  float64\n",
      " 17  primary_cleaner.output.concentrate_au               19439 non-null  float64\n",
      " 18  primary_cleaner.output.tail_ag                      19435 non-null  float64\n",
      " 19  primary_cleaner.output.tail_pb                      19418 non-null  float64\n",
      " 20  primary_cleaner.output.tail_sol                     19377 non-null  float64\n",
      " 21  primary_cleaner.output.tail_au                      19439 non-null  float64\n",
      " 22  primary_cleaner.state.floatbank8_a_air              19435 non-null  float64\n",
      " 23  primary_cleaner.state.floatbank8_a_level            19438 non-null  float64\n",
      " 24  primary_cleaner.state.floatbank8_b_air              19435 non-null  float64\n",
      " 25  primary_cleaner.state.floatbank8_b_level            19438 non-null  float64\n",
      " 26  primary_cleaner.state.floatbank8_c_air              19437 non-null  float64\n",
      " 27  primary_cleaner.state.floatbank8_c_level            19438 non-null  float64\n",
      " 28  primary_cleaner.state.floatbank8_d_air              19436 non-null  float64\n",
      " 29  primary_cleaner.state.floatbank8_d_level            19438 non-null  float64\n",
      " 30  rougher.calculation.sulfate_to_au_concentrate       19437 non-null  float64\n",
      " 31  rougher.calculation.floatbank10_sulfate_to_au_feed  19437 non-null  float64\n",
      " 32  rougher.calculation.floatbank11_sulfate_to_au_feed  19437 non-null  float64\n",
      " 33  rougher.calculation.au_pb_ratio                     19439 non-null  float64\n",
      " 34  rougher.input.feed_ag                               19439 non-null  float64\n",
      " 35  rougher.input.feed_pb                               19339 non-null  float64\n",
      " 36  rougher.input.feed_rate                             19428 non-null  float64\n",
      " 37  rougher.input.feed_size                             19294 non-null  float64\n",
      " 38  rougher.input.feed_sol                              19340 non-null  float64\n",
      " 39  rougher.input.feed_au                               19439 non-null  float64\n",
      " 40  rougher.input.floatbank10_sulfate                   19405 non-null  float64\n",
      " 41  rougher.input.floatbank10_xanthate                  19431 non-null  float64\n",
      " 42  rougher.input.floatbank11_sulfate                   19395 non-null  float64\n",
      " 43  rougher.input.floatbank11_xanthate                  18986 non-null  float64\n",
      " 44  rougher.output.concentrate_ag                       19439 non-null  float64\n",
      " 45  rougher.output.concentrate_pb                       19439 non-null  float64\n",
      " 46  rougher.output.concentrate_sol                      19416 non-null  float64\n",
      " 47  rougher.output.concentrate_au                       19439 non-null  float64\n",
      " 48  rougher.output.recovery                             19439 non-null  float64\n",
      " 49  rougher.output.tail_ag                              19438 non-null  float64\n",
      " 50  rougher.output.tail_pb                              19439 non-null  float64\n",
      " 51  rougher.output.tail_sol                             19439 non-null  float64\n",
      " 52  rougher.output.tail_au                              19439 non-null  float64\n",
      " 53  rougher.state.floatbank10_a_air                     19438 non-null  float64\n",
      " 54  rougher.state.floatbank10_a_level                   19438 non-null  float64\n",
      " 55  rougher.state.floatbank10_b_air                     19438 non-null  float64\n",
      " 56  rougher.state.floatbank10_b_level                   19438 non-null  float64\n",
      " 57  rougher.state.floatbank10_c_air                     19438 non-null  float64\n",
      " 58  rougher.state.floatbank10_c_level                   19438 non-null  float64\n",
      " 59  rougher.state.floatbank10_d_air                     19439 non-null  float64\n",
      " 60  rougher.state.floatbank10_d_level                   19439 non-null  float64\n",
      " 61  rougher.state.floatbank10_e_air                     19003 non-null  float64\n",
      " 62  rougher.state.floatbank10_e_level                   19439 non-null  float64\n",
      " 63  rougher.state.floatbank10_f_air                     19439 non-null  float64\n",
      " 64  rougher.state.floatbank10_f_level                   19439 non-null  float64\n",
      " 65  secondary_cleaner.output.tail_ag                    19437 non-null  float64\n",
      " 66  secondary_cleaner.output.tail_pb                    19427 non-null  float64\n",
      " 67  secondary_cleaner.output.tail_sol                   17691 non-null  float64\n",
      " 68  secondary_cleaner.output.tail_au                    19439 non-null  float64\n",
      " 69  secondary_cleaner.state.floatbank2_a_air            19219 non-null  float64\n",
      " 70  secondary_cleaner.state.floatbank2_a_level          19438 non-null  float64\n",
      " 71  secondary_cleaner.state.floatbank2_b_air            19416 non-null  float64\n",
      " 72  secondary_cleaner.state.floatbank2_b_level          19438 non-null  float64\n",
      " 73  secondary_cleaner.state.floatbank3_a_air            19426 non-null  float64\n",
      " 74  secondary_cleaner.state.floatbank3_a_level          19438 non-null  float64\n",
      " 75  secondary_cleaner.state.floatbank3_b_air            19438 non-null  float64\n",
      " 76  secondary_cleaner.state.floatbank3_b_level          19438 non-null  float64\n",
      " 77  secondary_cleaner.state.floatbank4_a_air            19433 non-null  float64\n",
      " 78  secondary_cleaner.state.floatbank4_a_level          19438 non-null  float64\n",
      " 79  secondary_cleaner.state.floatbank4_b_air            19438 non-null  float64\n",
      " 80  secondary_cleaner.state.floatbank4_b_level          19438 non-null  float64\n",
      " 81  secondary_cleaner.state.floatbank5_a_air            19438 non-null  float64\n",
      " 82  secondary_cleaner.state.floatbank5_a_level          19438 non-null  float64\n",
      " 83  secondary_cleaner.state.floatbank5_b_air            19438 non-null  float64\n",
      " 84  secondary_cleaner.state.floatbank5_b_level          19438 non-null  float64\n",
      " 85  secondary_cleaner.state.floatbank6_a_air            19437 non-null  float64\n",
      " 86  secondary_cleaner.state.floatbank6_a_level          19438 non-null  float64\n",
      "dtypes: float64(86), object(1)\n",
      "memory usage: 12.9+ MB\n"
     ]
    }
   ],
   "source": [
    "display(data_full.head())\n",
    "data_full.info();"
   ]
  },
  {
   "cell_type": "code",
   "execution_count": 4,
   "metadata": {},
   "outputs": [
    {
     "data": {
      "image/png": "[encoded data removed]",
      "text/plain": [
       "<Figure size 432x288 with 2 Axes>"
      ]
     },
     "metadata": {
      "needs_background": "light"
     },
     "output_type": "display_data"
    }
   ],
   "source": [
    "matrix_data_full=data_full.corr()\n",
    "sns.heatmap(matrix_data_full, cmap=\"YlGnBu\")\n",
    "plt.show()"
   ]
  },
  {
   "cell_type": "code",
   "execution_count": 5,
   "metadata": {
    "scrolled": true
   },
   "outputs": [
    {
     "data": {
      "text/html": [
       "<div>\n",
       "<style scoped>\n",
       "    .dataframe tbody tr th:only-of-type {\n",
       "        vertical-align: middle;\n",
       "    }\n",
       "\n",
       "    .dataframe tbody tr th {\n",
       "        vertical-align: top;\n",
       "    }\n",
       "\n",
       "    .dataframe thead th {\n",
       "        text-align: right;\n",
       "    }\n",
       "</style>\n",
       "<table border=\"1\" class=\"dataframe\">\n",
       "  <thead>\n",
       "    <tr style=\"text-align: right;\">\n",
       "      <th></th>\n",
       "      <th>date</th>\n",
       "      <th>primary_cleaner.input.sulfate</th>\n",
       "      <th>primary_cleaner.input.depressant</th>\n",
       "      <th>primary_cleaner.input.feed_size</th>\n",
       "      <th>primary_cleaner.input.xanthate</th>\n",
       "      <th>primary_cleaner.state.floatbank8_a_air</th>\n",
       "      <th>primary_cleaner.state.floatbank8_a_level</th>\n",
       "      <th>primary_cleaner.state.floatbank8_b_air</th>\n",
       "      <th>primary_cleaner.state.floatbank8_b_level</th>\n",
       "      <th>primary_cleaner.state.floatbank8_c_air</th>\n",
       "      <th>...</th>\n",
       "      <th>secondary_cleaner.state.floatbank4_a_air</th>\n",
       "      <th>secondary_cleaner.state.floatbank4_a_level</th>\n",
       "      <th>secondary_cleaner.state.floatbank4_b_air</th>\n",
       "      <th>secondary_cleaner.state.floatbank4_b_level</th>\n",
       "      <th>secondary_cleaner.state.floatbank5_a_air</th>\n",
       "      <th>secondary_cleaner.state.floatbank5_a_level</th>\n",
       "      <th>secondary_cleaner.state.floatbank5_b_air</th>\n",
       "      <th>secondary_cleaner.state.floatbank5_b_level</th>\n",
       "      <th>secondary_cleaner.state.floatbank6_a_air</th>\n",
       "      <th>secondary_cleaner.state.floatbank6_a_level</th>\n",
       "    </tr>\n",
       "  </thead>\n",
       "  <tbody>\n",
       "    <tr>\n",
       "      <th>0</th>\n",
       "      <td>2016-09-01 00:59:59</td>\n",
       "      <td>210.800909</td>\n",
       "      <td>14.993118</td>\n",
       "      <td>8.080000</td>\n",
       "      <td>1.005021</td>\n",
       "      <td>1398.981301</td>\n",
       "      <td>-500.225577</td>\n",
       "      <td>1399.144926</td>\n",
       "      <td>-499.919735</td>\n",
       "      <td>1400.102998</td>\n",
       "      <td>...</td>\n",
       "      <td>12.023554</td>\n",
       "      <td>-497.795834</td>\n",
       "      <td>8.016656</td>\n",
       "      <td>-501.289139</td>\n",
       "      <td>7.946562</td>\n",
       "      <td>-432.317850</td>\n",
       "      <td>4.872511</td>\n",
       "      <td>-500.037437</td>\n",
       "      <td>26.705889</td>\n",
       "      <td>-499.709414</td>\n",
       "    </tr>\n",
       "    <tr>\n",
       "      <th>1</th>\n",
       "      <td>2016-09-01 01:59:59</td>\n",
       "      <td>215.392455</td>\n",
       "      <td>14.987471</td>\n",
       "      <td>8.080000</td>\n",
       "      <td>0.990469</td>\n",
       "      <td>1398.777912</td>\n",
       "      <td>-500.057435</td>\n",
       "      <td>1398.055362</td>\n",
       "      <td>-499.778182</td>\n",
       "      <td>1396.151033</td>\n",
       "      <td>...</td>\n",
       "      <td>12.058140</td>\n",
       "      <td>-498.695773</td>\n",
       "      <td>8.130979</td>\n",
       "      <td>-499.634209</td>\n",
       "      <td>7.958270</td>\n",
       "      <td>-525.839648</td>\n",
       "      <td>4.878850</td>\n",
       "      <td>-500.162375</td>\n",
       "      <td>25.019940</td>\n",
       "      <td>-499.819438</td>\n",
       "    </tr>\n",
       "    <tr>\n",
       "      <th>2</th>\n",
       "      <td>2016-09-01 02:59:59</td>\n",
       "      <td>215.259946</td>\n",
       "      <td>12.884934</td>\n",
       "      <td>7.786667</td>\n",
       "      <td>0.996043</td>\n",
       "      <td>1398.493666</td>\n",
       "      <td>-500.868360</td>\n",
       "      <td>1398.860436</td>\n",
       "      <td>-499.764529</td>\n",
       "      <td>1398.075709</td>\n",
       "      <td>...</td>\n",
       "      <td>11.962366</td>\n",
       "      <td>-498.767484</td>\n",
       "      <td>8.096893</td>\n",
       "      <td>-500.827423</td>\n",
       "      <td>8.071056</td>\n",
       "      <td>-500.801673</td>\n",
       "      <td>4.905125</td>\n",
       "      <td>-499.828510</td>\n",
       "      <td>24.994862</td>\n",
       "      <td>-500.622559</td>\n",
       "    </tr>\n",
       "    <tr>\n",
       "      <th>3</th>\n",
       "      <td>2016-09-01 03:59:59</td>\n",
       "      <td>215.336236</td>\n",
       "      <td>12.006805</td>\n",
       "      <td>7.640000</td>\n",
       "      <td>0.863514</td>\n",
       "      <td>1399.618111</td>\n",
       "      <td>-498.863574</td>\n",
       "      <td>1397.440120</td>\n",
       "      <td>-499.211024</td>\n",
       "      <td>1400.129303</td>\n",
       "      <td>...</td>\n",
       "      <td>12.033091</td>\n",
       "      <td>-498.350935</td>\n",
       "      <td>8.074946</td>\n",
       "      <td>-499.474407</td>\n",
       "      <td>7.897085</td>\n",
       "      <td>-500.868509</td>\n",
       "      <td>4.931400</td>\n",
       "      <td>-499.963623</td>\n",
       "      <td>24.948919</td>\n",
       "      <td>-498.709987</td>\n",
       "    </tr>\n",
       "    <tr>\n",
       "      <th>4</th>\n",
       "      <td>2016-09-01 04:59:59</td>\n",
       "      <td>199.099327</td>\n",
       "      <td>10.682530</td>\n",
       "      <td>7.530000</td>\n",
       "      <td>0.805575</td>\n",
       "      <td>1401.268123</td>\n",
       "      <td>-500.808305</td>\n",
       "      <td>1398.128818</td>\n",
       "      <td>-499.504543</td>\n",
       "      <td>1402.172226</td>\n",
       "      <td>...</td>\n",
       "      <td>12.025367</td>\n",
       "      <td>-500.786497</td>\n",
       "      <td>8.054678</td>\n",
       "      <td>-500.397500</td>\n",
       "      <td>8.107890</td>\n",
       "      <td>-509.526725</td>\n",
       "      <td>4.957674</td>\n",
       "      <td>-500.360026</td>\n",
       "      <td>25.003331</td>\n",
       "      <td>-500.856333</td>\n",
       "    </tr>\n",
       "  </tbody>\n",
       "</table>\n",
       "<p>5 rows × 53 columns</p>\n",
       "</div>"
      ],
      "text/plain": [
       "                  date  primary_cleaner.input.sulfate  \\\n",
       "0  2016-09-01 00:59:59                     210.800909   \n",
       "1  2016-09-01 01:59:59                     215.392455   \n",
       "2  2016-09-01 02:59:59                     215.259946   \n",
       "3  2016-09-01 03:59:59                     215.336236   \n",
       "4  2016-09-01 04:59:59                     199.099327   \n",
       "\n",
       "   primary_cleaner.input.depressant  primary_cleaner.input.feed_size  \\\n",
       "0                         14.993118                         8.080000   \n",
       "1                         14.987471                         8.080000   \n",
       "2                         12.884934                         7.786667   \n",
       "3                         12.006805                         7.640000   \n",
       "4                         10.682530                         7.530000   \n",
       "\n",
       "   primary_cleaner.input.xanthate  primary_cleaner.state.floatbank8_a_air  \\\n",
       "0                        1.005021                             1398.981301   \n",
       "1                        0.990469                             1398.777912   \n",
       "2                        0.996043                             1398.493666   \n",
       "3                        0.863514                             1399.618111   \n",
       "4                        0.805575                             1401.268123   \n",
       "\n",
       "   primary_cleaner.state.floatbank8_a_level  \\\n",
       "0                               -500.225577   \n",
       "1                               -500.057435   \n",
       "2                               -500.868360   \n",
       "3                               -498.863574   \n",
       "4                               -500.808305   \n",
       "\n",
       "   primary_cleaner.state.floatbank8_b_air  \\\n",
       "0                             1399.144926   \n",
       "1                             1398.055362   \n",
       "2                             1398.860436   \n",
       "3                             1397.440120   \n",
       "4                             1398.128818   \n",
       "\n",
       "   primary_cleaner.state.floatbank8_b_level  \\\n",
       "0                               -499.919735   \n",
       "1                               -499.778182   \n",
       "2                               -499.764529   \n",
       "3                               -499.211024   \n",
       "4                               -499.504543   \n",
       "\n",
       "   primary_cleaner.state.floatbank8_c_air  ...  \\\n",
       "0                             1400.102998  ...   \n",
       "1                             1396.151033  ...   \n",
       "2                             1398.075709  ...   \n",
       "3                             1400.129303  ...   \n",
       "4                             1402.172226  ...   \n",
       "\n",
       "   secondary_cleaner.state.floatbank4_a_air  \\\n",
       "0                                 12.023554   \n",
       "1                                 12.058140   \n",
       "2                                 11.962366   \n",
       "3                                 12.033091   \n",
       "4                                 12.025367   \n",
       "\n",
       "   secondary_cleaner.state.floatbank4_a_level  \\\n",
       "0                                 -497.795834   \n",
       "1                                 -498.695773   \n",
       "2                                 -498.767484   \n",
       "3                                 -498.350935   \n",
       "4                                 -500.786497   \n",
       "\n",
       "   secondary_cleaner.state.floatbank4_b_air  \\\n",
       "0                                  8.016656   \n",
       "1                                  8.130979   \n",
       "2                                  8.096893   \n",
       "3                                  8.074946   \n",
       "4                                  8.054678   \n",
       "\n",
       "   secondary_cleaner.state.floatbank4_b_level  \\\n",
       "0                                 -501.289139   \n",
       "1                                 -499.634209   \n",
       "2                                 -500.827423   \n",
       "3                                 -499.474407   \n",
       "4                                 -500.397500   \n",
       "\n",
       "   secondary_cleaner.state.floatbank5_a_air  \\\n",
       "0                                  7.946562   \n",
       "1                                  7.958270   \n",
       "2                                  8.071056   \n",
       "3                                  7.897085   \n",
       "4                                  8.107890   \n",
       "\n",
       "   secondary_cleaner.state.floatbank5_a_level  \\\n",
       "0                                 -432.317850   \n",
       "1                                 -525.839648   \n",
       "2                                 -500.801673   \n",
       "3                                 -500.868509   \n",
       "4                                 -509.526725   \n",
       "\n",
       "   secondary_cleaner.state.floatbank5_b_air  \\\n",
       "0                                  4.872511   \n",
       "1                                  4.878850   \n",
       "2                                  4.905125   \n",
       "3                                  4.931400   \n",
       "4                                  4.957674   \n",
       "\n",
       "   secondary_cleaner.state.floatbank5_b_level  \\\n",
       "0                                 -500.037437   \n",
       "1                                 -500.162375   \n",
       "2                                 -499.828510   \n",
       "3                                 -499.963623   \n",
       "4                                 -500.360026   \n",
       "\n",
       "   secondary_cleaner.state.floatbank6_a_air  \\\n",
       "0                                 26.705889   \n",
       "1                                 25.019940   \n",
       "2                                 24.994862   \n",
       "3                                 24.948919   \n",
       "4                                 25.003331   \n",
       "\n",
       "   secondary_cleaner.state.floatbank6_a_level  \n",
       "0                                 -499.709414  \n",
       "1                                 -499.819438  \n",
       "2                                 -500.622559  \n",
       "3                                 -498.709987  \n",
       "4                                 -500.856333  \n",
       "\n",
       "[5 rows x 53 columns]"
      ]
     },
     "metadata": {},
     "output_type": "display_data"
    },
    {
     "name": "stdout",
     "output_type": "stream",
     "text": [
      "<class 'pandas.core.frame.DataFrame'>\n",
      "RangeIndex: 5290 entries, 0 to 5289\n",
      "Data columns (total 53 columns):\n",
      " #   Column                                      Non-Null Count  Dtype  \n",
      "---  ------                                      --------------  -----  \n",
      " 0   date                                        5290 non-null   object \n",
      " 1   primary_cleaner.input.sulfate               5286 non-null   float64\n",
      " 2   primary_cleaner.input.depressant            5285 non-null   float64\n",
      " 3   primary_cleaner.input.feed_size             5290 non-null   float64\n",
      " 4   primary_cleaner.input.xanthate              5286 non-null   float64\n",
      " 5   primary_cleaner.state.floatbank8_a_air      5290 non-null   float64\n",
      " 6   primary_cleaner.state.floatbank8_a_level    5290 non-null   float64\n",
      " 7   primary_cleaner.state.floatbank8_b_air      5290 non-null   float64\n",
      " 8   primary_cleaner.state.floatbank8_b_level    5290 non-null   float64\n",
      " 9   primary_cleaner.state.floatbank8_c_air      5290 non-null   float64\n",
      " 10  primary_cleaner.state.floatbank8_c_level    5290 non-null   float64\n",
      " 11  primary_cleaner.state.floatbank8_d_air      5290 non-null   float64\n",
      " 12  primary_cleaner.state.floatbank8_d_level    5290 non-null   float64\n",
      " 13  rougher.input.feed_ag                       5290 non-null   float64\n",
      " 14  rougher.input.feed_pb                       5290 non-null   float64\n",
      " 15  rougher.input.feed_rate                     5287 non-null   float64\n",
      " 16  rougher.input.feed_size                     5289 non-null   float64\n",
      " 17  rougher.input.feed_sol                      5269 non-null   float64\n",
      " 18  rougher.input.feed_au                       5290 non-null   float64\n",
      " 19  rougher.input.floatbank10_sulfate           5285 non-null   float64\n",
      " 20  rougher.input.floatbank10_xanthate          5290 non-null   float64\n",
      " 21  rougher.input.floatbank11_sulfate           5282 non-null   float64\n",
      " 22  rougher.input.floatbank11_xanthate          5265 non-null   float64\n",
      " 23  rougher.state.floatbank10_a_air             5290 non-null   float64\n",
      " 24  rougher.state.floatbank10_a_level           5290 non-null   float64\n",
      " 25  rougher.state.floatbank10_b_air             5290 non-null   float64\n",
      " 26  rougher.state.floatbank10_b_level           5290 non-null   float64\n",
      " 27  rougher.state.floatbank10_c_air             5290 non-null   float64\n",
      " 28  rougher.state.floatbank10_c_level           5290 non-null   float64\n",
      " 29  rougher.state.floatbank10_d_air             5290 non-null   float64\n",
      " 30  rougher.state.floatbank10_d_level           5290 non-null   float64\n",
      " 31  rougher.state.floatbank10_e_air             5290 non-null   float64\n",
      " 32  rougher.state.floatbank10_e_level           5290 non-null   float64\n",
      " 33  rougher.state.floatbank10_f_air             5290 non-null   float64\n",
      " 34  rougher.state.floatbank10_f_level           5290 non-null   float64\n",
      " 35  secondary_cleaner.state.floatbank2_a_air    5287 non-null   float64\n",
      " 36  secondary_cleaner.state.floatbank2_a_level  5290 non-null   float64\n",
      " 37  secondary_cleaner.state.floatbank2_b_air    5288 non-null   float64\n",
      " 38  secondary_cleaner.state.floatbank2_b_level  5290 non-null   float64\n",
      " 39  secondary_cleaner.state.floatbank3_a_air    5281 non-null   float64\n",
      " 40  secondary_cleaner.state.floatbank3_a_level  5290 non-null   float64\n",
      " 41  secondary_cleaner.state.floatbank3_b_air    5290 non-null   float64\n",
      " 42  secondary_cleaner.state.floatbank3_b_level  5290 non-null   float64\n",
      " 43  secondary_cleaner.state.floatbank4_a_air    5290 non-null   float64\n",
      " 44  secondary_cleaner.state.floatbank4_a_level  5290 non-null   float64\n",
      " 45  secondary_cleaner.state.floatbank4_b_air    5290 non-null   float64\n",
      " 46  secondary_cleaner.state.floatbank4_b_level  5290 non-null   float64\n",
      " 47  secondary_cleaner.state.floatbank5_a_air    5290 non-null   float64\n",
      " 48  secondary_cleaner.state.floatbank5_a_level  5290 non-null   float64\n",
      " 49  secondary_cleaner.state.floatbank5_b_air    5290 non-null   float64\n",
      " 50  secondary_cleaner.state.floatbank5_b_level  5290 non-null   float64\n",
      " 51  secondary_cleaner.state.floatbank6_a_air    5290 non-null   float64\n",
      " 52  secondary_cleaner.state.floatbank6_a_level  5290 non-null   float64\n",
      "dtypes: float64(52), object(1)\n",
      "memory usage: 2.1+ MB\n"
     ]
    }
   ],
   "source": [
    "display(data_test.head())\n",
    "data_test.info();"
   ]
  },
  {
   "cell_type": "code",
   "execution_count": 6,
   "metadata": {
    "scrolled": true
   },
   "outputs": [
    {
     "data": {
      "image/png": "[encoded data removed]",
      "text/plain": [
       "<Figure size 432x288 with 2 Axes>"
      ]
     },
     "metadata": {
      "needs_background": "light"
     },
     "output_type": "display_data"
    }
   ],
   "source": [
    "matrix_data_test=data_test.corr()\n",
    "sns.heatmap(matrix_data_test, cmap=\"YlGnBu\")\n",
    "plt.show()"
   ]
  },
  {
   "cell_type": "code",
   "execution_count": 7,
   "metadata": {},
   "outputs": [
    {
     "data": {
      "text/html": [
       "<div>\n",
       "<style scoped>\n",
       "    .dataframe tbody tr th:only-of-type {\n",
       "        vertical-align: middle;\n",
       "    }\n",
       "\n",
       "    .dataframe tbody tr th {\n",
       "        vertical-align: top;\n",
       "    }\n",
       "\n",
       "    .dataframe thead th {\n",
       "        text-align: right;\n",
       "    }\n",
       "</style>\n",
       "<table border=\"1\" class=\"dataframe\">\n",
       "  <thead>\n",
       "    <tr style=\"text-align: right;\">\n",
       "      <th></th>\n",
       "      <th>date</th>\n",
       "      <th>final.output.concentrate_ag</th>\n",
       "      <th>final.output.concentrate_pb</th>\n",
       "      <th>final.output.concentrate_sol</th>\n",
       "      <th>final.output.concentrate_au</th>\n",
       "      <th>final.output.recovery</th>\n",
       "      <th>final.output.tail_ag</th>\n",
       "      <th>final.output.tail_pb</th>\n",
       "      <th>final.output.tail_sol</th>\n",
       "      <th>final.output.tail_au</th>\n",
       "      <th>...</th>\n",
       "      <th>secondary_cleaner.state.floatbank4_a_air</th>\n",
       "      <th>secondary_cleaner.state.floatbank4_a_level</th>\n",
       "      <th>secondary_cleaner.state.floatbank4_b_air</th>\n",
       "      <th>secondary_cleaner.state.floatbank4_b_level</th>\n",
       "      <th>secondary_cleaner.state.floatbank5_a_air</th>\n",
       "      <th>secondary_cleaner.state.floatbank5_a_level</th>\n",
       "      <th>secondary_cleaner.state.floatbank5_b_air</th>\n",
       "      <th>secondary_cleaner.state.floatbank5_b_level</th>\n",
       "      <th>secondary_cleaner.state.floatbank6_a_air</th>\n",
       "      <th>secondary_cleaner.state.floatbank6_a_level</th>\n",
       "    </tr>\n",
       "  </thead>\n",
       "  <tbody>\n",
       "    <tr>\n",
       "      <th>0</th>\n",
       "      <td>2016-01-15 00:00:00</td>\n",
       "      <td>6.055403</td>\n",
       "      <td>9.889648</td>\n",
       "      <td>5.507324</td>\n",
       "      <td>42.192020</td>\n",
       "      <td>70.541216</td>\n",
       "      <td>10.411962</td>\n",
       "      <td>0.895447</td>\n",
       "      <td>16.904297</td>\n",
       "      <td>2.143149</td>\n",
       "      <td>...</td>\n",
       "      <td>14.016835</td>\n",
       "      <td>-502.488007</td>\n",
       "      <td>12.099931</td>\n",
       "      <td>-504.715942</td>\n",
       "      <td>9.925633</td>\n",
       "      <td>-498.310211</td>\n",
       "      <td>8.079666</td>\n",
       "      <td>-500.470978</td>\n",
       "      <td>14.151341</td>\n",
       "      <td>-605.841980</td>\n",
       "    </tr>\n",
       "    <tr>\n",
       "      <th>1</th>\n",
       "      <td>2016-01-15 01:00:00</td>\n",
       "      <td>6.029369</td>\n",
       "      <td>9.968944</td>\n",
       "      <td>5.257781</td>\n",
       "      <td>42.701629</td>\n",
       "      <td>69.266198</td>\n",
       "      <td>10.462676</td>\n",
       "      <td>0.927452</td>\n",
       "      <td>16.634514</td>\n",
       "      <td>2.224930</td>\n",
       "      <td>...</td>\n",
       "      <td>13.992281</td>\n",
       "      <td>-505.503262</td>\n",
       "      <td>11.950531</td>\n",
       "      <td>-501.331529</td>\n",
       "      <td>10.039245</td>\n",
       "      <td>-500.169983</td>\n",
       "      <td>7.984757</td>\n",
       "      <td>-500.582168</td>\n",
       "      <td>13.998353</td>\n",
       "      <td>-599.787184</td>\n",
       "    </tr>\n",
       "    <tr>\n",
       "      <th>2</th>\n",
       "      <td>2016-01-15 02:00:00</td>\n",
       "      <td>6.055926</td>\n",
       "      <td>10.213995</td>\n",
       "      <td>5.383759</td>\n",
       "      <td>42.657501</td>\n",
       "      <td>68.116445</td>\n",
       "      <td>10.507046</td>\n",
       "      <td>0.953716</td>\n",
       "      <td>16.208849</td>\n",
       "      <td>2.257889</td>\n",
       "      <td>...</td>\n",
       "      <td>14.015015</td>\n",
       "      <td>-502.520901</td>\n",
       "      <td>11.912783</td>\n",
       "      <td>-501.133383</td>\n",
       "      <td>10.070913</td>\n",
       "      <td>-500.129135</td>\n",
       "      <td>8.013877</td>\n",
       "      <td>-500.517572</td>\n",
       "      <td>14.028663</td>\n",
       "      <td>-601.427363</td>\n",
       "    </tr>\n",
       "    <tr>\n",
       "      <th>3</th>\n",
       "      <td>2016-01-15 03:00:00</td>\n",
       "      <td>6.047977</td>\n",
       "      <td>9.977019</td>\n",
       "      <td>4.858634</td>\n",
       "      <td>42.689819</td>\n",
       "      <td>68.347543</td>\n",
       "      <td>10.422762</td>\n",
       "      <td>0.883763</td>\n",
       "      <td>16.532835</td>\n",
       "      <td>2.146849</td>\n",
       "      <td>...</td>\n",
       "      <td>14.036510</td>\n",
       "      <td>-500.857308</td>\n",
       "      <td>11.999550</td>\n",
       "      <td>-501.193686</td>\n",
       "      <td>9.970366</td>\n",
       "      <td>-499.201640</td>\n",
       "      <td>7.977324</td>\n",
       "      <td>-500.255908</td>\n",
       "      <td>14.005551</td>\n",
       "      <td>-599.996129</td>\n",
       "    </tr>\n",
       "    <tr>\n",
       "      <th>4</th>\n",
       "      <td>2016-01-15 04:00:00</td>\n",
       "      <td>6.148599</td>\n",
       "      <td>10.142511</td>\n",
       "      <td>4.939416</td>\n",
       "      <td>42.774141</td>\n",
       "      <td>66.927016</td>\n",
       "      <td>10.360302</td>\n",
       "      <td>0.792826</td>\n",
       "      <td>16.525686</td>\n",
       "      <td>2.055292</td>\n",
       "      <td>...</td>\n",
       "      <td>14.027298</td>\n",
       "      <td>-499.838632</td>\n",
       "      <td>11.953070</td>\n",
       "      <td>-501.053894</td>\n",
       "      <td>9.925709</td>\n",
       "      <td>-501.686727</td>\n",
       "      <td>7.894242</td>\n",
       "      <td>-500.356035</td>\n",
       "      <td>13.996647</td>\n",
       "      <td>-601.496691</td>\n",
       "    </tr>\n",
       "  </tbody>\n",
       "</table>\n",
       "<p>5 rows × 87 columns</p>\n",
       "</div>"
      ],
      "text/plain": [
       "                  date  final.output.concentrate_ag  \\\n",
       "0  2016-01-15 00:00:00                     6.055403   \n",
       "1  2016-01-15 01:00:00                     6.029369   \n",
       "2  2016-01-15 02:00:00                     6.055926   \n",
       "3  2016-01-15 03:00:00                     6.047977   \n",
       "4  2016-01-15 04:00:00                     6.148599   \n",
       "\n",
       "   final.output.concentrate_pb  final.output.concentrate_sol  \\\n",
       "0                     9.889648                      5.507324   \n",
       "1                     9.968944                      5.257781   \n",
       "2                    10.213995                      5.383759   \n",
       "3                     9.977019                      4.858634   \n",
       "4                    10.142511                      4.939416   \n",
       "\n",
       "   final.output.concentrate_au  final.output.recovery  final.output.tail_ag  \\\n",
       "0                    42.192020              70.541216             10.411962   \n",
       "1                    42.701629              69.266198             10.462676   \n",
       "2                    42.657501              68.116445             10.507046   \n",
       "3                    42.689819              68.347543             10.422762   \n",
       "4                    42.774141              66.927016             10.360302   \n",
       "\n",
       "   final.output.tail_pb  final.output.tail_sol  final.output.tail_au  ...  \\\n",
       "0              0.895447              16.904297              2.143149  ...   \n",
       "1              0.927452              16.634514              2.224930  ...   \n",
       "2              0.953716              16.208849              2.257889  ...   \n",
       "3              0.883763              16.532835              2.146849  ...   \n",
       "4              0.792826              16.525686              2.055292  ...   \n",
       "\n",
       "   secondary_cleaner.state.floatbank4_a_air  \\\n",
       "0                                 14.016835   \n",
       "1                                 13.992281   \n",
       "2                                 14.015015   \n",
       "3                                 14.036510   \n",
       "4                                 14.027298   \n",
       "\n",
       "   secondary_cleaner.state.floatbank4_a_level  \\\n",
       "0                                 -502.488007   \n",
       "1                                 -505.503262   \n",
       "2                                 -502.520901   \n",
       "3                                 -500.857308   \n",
       "4                                 -499.838632   \n",
       "\n",
       "   secondary_cleaner.state.floatbank4_b_air  \\\n",
       "0                                 12.099931   \n",
       "1                                 11.950531   \n",
       "2                                 11.912783   \n",
       "3                                 11.999550   \n",
       "4                                 11.953070   \n",
       "\n",
       "   secondary_cleaner.state.floatbank4_b_level  \\\n",
       "0                                 -504.715942   \n",
       "1                                 -501.331529   \n",
       "2                                 -501.133383   \n",
       "3                                 -501.193686   \n",
       "4                                 -501.053894   \n",
       "\n",
       "   secondary_cleaner.state.floatbank5_a_air  \\\n",
       "0                                  9.925633   \n",
       "1                                 10.039245   \n",
       "2                                 10.070913   \n",
       "3                                  9.970366   \n",
       "4                                  9.925709   \n",
       "\n",
       "   secondary_cleaner.state.floatbank5_a_level  \\\n",
       "0                                 -498.310211   \n",
       "1                                 -500.169983   \n",
       "2                                 -500.129135   \n",
       "3                                 -499.201640   \n",
       "4                                 -501.686727   \n",
       "\n",
       "   secondary_cleaner.state.floatbank5_b_air  \\\n",
       "0                                  8.079666   \n",
       "1                                  7.984757   \n",
       "2                                  8.013877   \n",
       "3                                  7.977324   \n",
       "4                                  7.894242   \n",
       "\n",
       "   secondary_cleaner.state.floatbank5_b_level  \\\n",
       "0                                 -500.470978   \n",
       "1                                 -500.582168   \n",
       "2                                 -500.517572   \n",
       "3                                 -500.255908   \n",
       "4                                 -500.356035   \n",
       "\n",
       "   secondary_cleaner.state.floatbank6_a_air  \\\n",
       "0                                 14.151341   \n",
       "1                                 13.998353   \n",
       "2                                 14.028663   \n",
       "3                                 14.005551   \n",
       "4                                 13.996647   \n",
       "\n",
       "   secondary_cleaner.state.floatbank6_a_level  \n",
       "0                                 -605.841980  \n",
       "1                                 -599.787184  \n",
       "2                                 -601.427363  \n",
       "3                                 -599.996129  \n",
       "4                                 -601.496691  \n",
       "\n",
       "[5 rows x 87 columns]"
      ]
     },
     "metadata": {},
     "output_type": "display_data"
    },
    {
     "name": "stdout",
     "output_type": "stream",
     "text": [
      "<class 'pandas.core.frame.DataFrame'>\n",
      "RangeIndex: 14149 entries, 0 to 14148\n",
      "Data columns (total 87 columns):\n",
      " #   Column                                              Non-Null Count  Dtype  \n",
      "---  ------                                              --------------  -----  \n",
      " 0   date                                                14149 non-null  object \n",
      " 1   final.output.concentrate_ag                         14148 non-null  float64\n",
      " 2   final.output.concentrate_pb                         14148 non-null  float64\n",
      " 3   final.output.concentrate_sol                        13938 non-null  float64\n",
      " 4   final.output.concentrate_au                         14149 non-null  float64\n",
      " 5   final.output.recovery                               14149 non-null  float64\n",
      " 6   final.output.tail_ag                                14149 non-null  float64\n",
      " 7   final.output.tail_pb                                14049 non-null  float64\n",
      " 8   final.output.tail_sol                               14144 non-null  float64\n",
      " 9   final.output.tail_au                                14149 non-null  float64\n",
      " 10  primary_cleaner.input.sulfate                       14129 non-null  float64\n",
      " 11  primary_cleaner.input.depressant                    14117 non-null  float64\n",
      " 12  primary_cleaner.input.feed_size                     14149 non-null  float64\n",
      " 13  primary_cleaner.input.xanthate                      14049 non-null  float64\n",
      " 14  primary_cleaner.output.concentrate_ag               14149 non-null  float64\n",
      " 15  primary_cleaner.output.concentrate_pb               14063 non-null  float64\n",
      " 16  primary_cleaner.output.concentrate_sol              13863 non-null  float64\n",
      " 17  primary_cleaner.output.concentrate_au               14149 non-null  float64\n",
      " 18  primary_cleaner.output.tail_ag                      14148 non-null  float64\n",
      " 19  primary_cleaner.output.tail_pb                      14134 non-null  float64\n",
      " 20  primary_cleaner.output.tail_sol                     14103 non-null  float64\n",
      " 21  primary_cleaner.output.tail_au                      14149 non-null  float64\n",
      " 22  primary_cleaner.state.floatbank8_a_air              14145 non-null  float64\n",
      " 23  primary_cleaner.state.floatbank8_a_level            14148 non-null  float64\n",
      " 24  primary_cleaner.state.floatbank8_b_air              14145 non-null  float64\n",
      " 25  primary_cleaner.state.floatbank8_b_level            14148 non-null  float64\n",
      " 26  primary_cleaner.state.floatbank8_c_air              14147 non-null  float64\n",
      " 27  primary_cleaner.state.floatbank8_c_level            14148 non-null  float64\n",
      " 28  primary_cleaner.state.floatbank8_d_air              14146 non-null  float64\n",
      " 29  primary_cleaner.state.floatbank8_d_level            14148 non-null  float64\n",
      " 30  rougher.calculation.sulfate_to_au_concentrate       14148 non-null  float64\n",
      " 31  rougher.calculation.floatbank10_sulfate_to_au_feed  14148 non-null  float64\n",
      " 32  rougher.calculation.floatbank11_sulfate_to_au_feed  14148 non-null  float64\n",
      " 33  rougher.calculation.au_pb_ratio                     14149 non-null  float64\n",
      " 34  rougher.input.feed_ag                               14149 non-null  float64\n",
      " 35  rougher.input.feed_pb                               14049 non-null  float64\n",
      " 36  rougher.input.feed_rate                             14141 non-null  float64\n",
      " 37  rougher.input.feed_size                             14005 non-null  float64\n",
      " 38  rougher.input.feed_sol                              14071 non-null  float64\n",
      " 39  rougher.input.feed_au                               14149 non-null  float64\n",
      " 40  rougher.input.floatbank10_sulfate                   14120 non-null  float64\n",
      " 41  rougher.input.floatbank10_xanthate                  14141 non-null  float64\n",
      " 42  rougher.input.floatbank11_sulfate                   14113 non-null  float64\n",
      " 43  rougher.input.floatbank11_xanthate                  13721 non-null  float64\n",
      " 44  rougher.output.concentrate_ag                       14149 non-null  float64\n",
      " 45  rougher.output.concentrate_pb                       14149 non-null  float64\n",
      " 46  rougher.output.concentrate_sol                      14127 non-null  float64\n",
      " 47  rougher.output.concentrate_au                       14149 non-null  float64\n",
      " 48  rougher.output.recovery                             14149 non-null  float64\n",
      " 49  rougher.output.tail_ag                              14148 non-null  float64\n",
      " 50  rougher.output.tail_pb                              14149 non-null  float64\n",
      " 51  rougher.output.tail_sol                             14149 non-null  float64\n",
      " 52  rougher.output.tail_au                              14149 non-null  float64\n",
      " 53  rougher.state.floatbank10_a_air                     14148 non-null  float64\n",
      " 54  rougher.state.floatbank10_a_level                   14148 non-null  float64\n",
      " 55  rougher.state.floatbank10_b_air                     14148 non-null  float64\n",
      " 56  rougher.state.floatbank10_b_level                   14148 non-null  float64\n",
      " 57  rougher.state.floatbank10_c_air                     14148 non-null  float64\n",
      " 58  rougher.state.floatbank10_c_level                   14148 non-null  float64\n",
      " 59  rougher.state.floatbank10_d_air                     14149 non-null  float64\n",
      " 60  rougher.state.floatbank10_d_level                   14149 non-null  float64\n",
      " 61  rougher.state.floatbank10_e_air                     13713 non-null  float64\n",
      " 62  rougher.state.floatbank10_e_level                   14149 non-null  float64\n",
      " 63  rougher.state.floatbank10_f_air                     14149 non-null  float64\n",
      " 64  rougher.state.floatbank10_f_level                   14149 non-null  float64\n",
      " 65  secondary_cleaner.output.tail_ag                    14147 non-null  float64\n",
      " 66  secondary_cleaner.output.tail_pb                    14139 non-null  float64\n",
      " 67  secondary_cleaner.output.tail_sol                   12544 non-null  float64\n",
      " 68  secondary_cleaner.output.tail_au                    14149 non-null  float64\n",
      " 69  secondary_cleaner.state.floatbank2_a_air            13932 non-null  float64\n",
      " 70  secondary_cleaner.state.floatbank2_a_level          14148 non-null  float64\n",
      " 71  secondary_cleaner.state.floatbank2_b_air            14128 non-null  float64\n",
      " 72  secondary_cleaner.state.floatbank2_b_level          14148 non-null  float64\n",
      " 73  secondary_cleaner.state.floatbank3_a_air            14145 non-null  float64\n",
      " 74  secondary_cleaner.state.floatbank3_a_level          14148 non-null  float64\n",
      " 75  secondary_cleaner.state.floatbank3_b_air            14148 non-null  float64\n",
      " 76  secondary_cleaner.state.floatbank3_b_level          14148 non-null  float64\n",
      " 77  secondary_cleaner.state.floatbank4_a_air            14143 non-null  float64\n",
      " 78  secondary_cleaner.state.floatbank4_a_level          14148 non-null  float64\n",
      " 79  secondary_cleaner.state.floatbank4_b_air            14148 non-null  float64\n",
      " 80  secondary_cleaner.state.floatbank4_b_level          14148 non-null  float64\n",
      " 81  secondary_cleaner.state.floatbank5_a_air            14148 non-null  float64\n",
      " 82  secondary_cleaner.state.floatbank5_a_level          14148 non-null  float64\n",
      " 83  secondary_cleaner.state.floatbank5_b_air            14148 non-null  float64\n",
      " 84  secondary_cleaner.state.floatbank5_b_level          14148 non-null  float64\n",
      " 85  secondary_cleaner.state.floatbank6_a_air            14147 non-null  float64\n",
      " 86  secondary_cleaner.state.floatbank6_a_level          14148 non-null  float64\n",
      "dtypes: float64(86), object(1)\n",
      "memory usage: 9.4+ MB\n"
     ]
    }
   ],
   "source": [
    "display(data_train.head())\n",
    "data_train.info();"
   ]
  },
  {
   "cell_type": "code",
   "execution_count": 8,
   "metadata": {},
   "outputs": [
    {
     "data": {
      "image/png": "[encoded data removed]",
      "text/plain": [
       "<Figure size 432x288 with 2 Axes>"
      ]
     },
     "metadata": {
      "needs_background": "light"
     },
     "output_type": "display_data"
    }
   ],
   "source": [
    "matrix_data_train=data_train.corr()\n",
    "sns.heatmap(matrix_data_train, cmap=\"YlGnBu\")\n",
    "plt.show()"
   ]
  },
  {
   "cell_type": "code",
   "execution_count": 9,
   "metadata": {},
   "outputs": [
    {
     "name": "stdout",
     "output_type": "stream",
     "text": [
      "0\n",
      "0\n",
      "0\n"
     ]
    }
   ],
   "source": [
    "print(data_full.duplicated().sum())\n",
    "print(data_test.duplicated().sum())\n",
    "print(data_train.duplicated().sum())"
   ]
  },
  {
   "cell_type": "code",
   "execution_count": 10,
   "metadata": {},
   "outputs": [
    {
     "name": "stdout",
     "output_type": "stream",
     "text": [
      "Рaзмер data_full: (19439, 87)\n",
      "Рaзмер data_test: (5290, 53)\n",
      "Рaзмер data_train: (14149, 87)\n"
     ]
    }
   ],
   "source": [
    "print('Рaзмер data_full:',data_full.shape)\n",
    "print('Рaзмер data_test:',data_test.shape)\n",
    "print('Рaзмер data_train:',data_train.shape)"
   ]
  },
  {
   "cell_type": "markdown",
   "metadata": {},
   "source": [
    "Все данные в столбцах (кроме столбца date) имеют верный формат float. В данный всех трех файлов имеются пропуски. Исходный файл разделен на тестовую и тренировочную выборки(27/73).Была проверена корреляция каждой выборки, так как при высокой зависимости мы могли бы получить некорректное обучение одной из моделей. В тестовой выборке отсутсвует 34 стобца (признака). Проверим корректность имеющейся эффективности обогащения на rougher.output.recovery из тренировочной выборки. recovery= ((C * (F-T))/(F * (C-T)))*100"
   ]
  },
  {
   "cell_type": "code",
   "execution_count": 11,
   "metadata": {},
   "outputs": [],
   "source": [
    "def recovery(data):\n",
    "    c= data['rougher.output.concentrate_au'].dropna()\n",
    "    f= data['rougher.input.feed_au'].dropna()\n",
    "    t= data['rougher.output.tail_au'].dropna()\n",
    "    r= (c*(f-t))/(f*(c-t))*100\n",
    "    \n",
    "    data['recovery']=abs(r[(r >= 0) & (r <= 100)])"
   ]
  },
  {
   "cell_type": "code",
   "execution_count": 12,
   "metadata": {},
   "outputs": [],
   "source": [
    "recovery(data_train)"
   ]
  },
  {
   "cell_type": "code",
   "execution_count": 13,
   "metadata": {},
   "outputs": [],
   "source": [
    "data_train['recovery']=pd.Series(data_train['recovery'])"
   ]
  },
  {
   "cell_type": "markdown",
   "metadata": {},
   "source": [
    "Расчитаем МАЕ показателей"
   ]
  },
  {
   "cell_type": "code",
   "execution_count": 14,
   "metadata": {},
   "outputs": [
    {
     "data": {
      "text/plain": [
       "0.0"
      ]
     },
     "execution_count": 14,
     "metadata": {},
     "output_type": "execute_result"
    }
   ],
   "source": [
    "mean_absolute_error(data_train['rougher.output.recovery'],data_train['recovery']).round(4)"
   ]
  },
  {
   "cell_type": "markdown",
   "metadata": {},
   "source": [
    "Проверка показала, что значения эффективности обогащения расчитаны верно. Ранее было обнаружено, что в тестовой выборке отсутсвуют некоторые параметры. Выясним что это за параметры."
   ]
  },
  {
   "cell_type": "code",
   "execution_count": 15,
   "metadata": {
    "scrolled": true
   },
   "outputs": [
    {
     "data": {
      "text/plain": [
       "0                           final.output.concentrate_ag\n",
       "1                           final.output.concentrate_pb\n",
       "2                          final.output.concentrate_sol\n",
       "3                           final.output.concentrate_au\n",
       "4                                 final.output.recovery\n",
       "5                                  final.output.tail_ag\n",
       "6                                  final.output.tail_pb\n",
       "7                                 final.output.tail_sol\n",
       "8                                  final.output.tail_au\n",
       "9                 primary_cleaner.output.concentrate_ag\n",
       "10                primary_cleaner.output.concentrate_pb\n",
       "11               primary_cleaner.output.concentrate_sol\n",
       "12                primary_cleaner.output.concentrate_au\n",
       "13                       primary_cleaner.output.tail_ag\n",
       "14                       primary_cleaner.output.tail_pb\n",
       "15                      primary_cleaner.output.tail_sol\n",
       "16                       primary_cleaner.output.tail_au\n",
       "17        rougher.calculation.sulfate_to_au_concentrate\n",
       "18    rougher.calculation.floatbank10_sulfate_to_au_...\n",
       "19    rougher.calculation.floatbank11_sulfate_to_au_...\n",
       "20                      rougher.calculation.au_pb_ratio\n",
       "21                        rougher.output.concentrate_ag\n",
       "22                        rougher.output.concentrate_pb\n",
       "23                       rougher.output.concentrate_sol\n",
       "24                        rougher.output.concentrate_au\n",
       "25                              rougher.output.recovery\n",
       "26                               rougher.output.tail_ag\n",
       "27                               rougher.output.tail_pb\n",
       "28                              rougher.output.tail_sol\n",
       "29                               rougher.output.tail_au\n",
       "30                     secondary_cleaner.output.tail_ag\n",
       "31                     secondary_cleaner.output.tail_pb\n",
       "32                    secondary_cleaner.output.tail_sol\n",
       "33                     secondary_cleaner.output.tail_au\n",
       "34                                             recovery\n",
       "dtype: object"
      ]
     },
     "execution_count": 15,
     "metadata": {},
     "output_type": "execute_result"
    }
   ],
   "source": [
    "anadd_columns=pd.Series(data_train.drop(data_test.columns,axis=1).columns)\n",
    "anadd_columns"
   ]
  },
  {
   "cell_type": "markdown",
   "metadata": {},
   "source": [
    "Из получившегося списка можно выделить только стобец final.output.recovery и столбец rougher.output.recovery, не вошедшие в тестовую выборку,, данные этих признаков не являются промежуточными и понадобятся нам для дальнейшей работы. Добавим данные этих признаков в тестовую выборку."
   ]
  },
  {
   "cell_type": "code",
   "execution_count": 16,
   "metadata": {},
   "outputs": [
    {
     "data": {
      "text/plain": [
       "(5290, 55)"
      ]
     },
     "execution_count": 16,
     "metadata": {},
     "output_type": "execute_result"
    }
   ],
   "source": [
    "data_test = ((data_test.merge(data_full[['date', 'final.output.recovery', 'rougher.output.recovery']],\\\n",
    "                              how='outer', on='date')).dropna(subset=['rougher.input.feed_au']))\n",
    "data_test.shape"
   ]
  },
  {
   "cell_type": "markdown",
   "metadata": {},
   "source": [
    "Мы уже проверили данные на наличие полных дубликатов и помним , что в каждом наборе данных имеются пропуски. Пропуски в целевых признаках удалим, а в нецелевых признаках заполним приближенными значениями."
   ]
  },
  {
   "cell_type": "code",
   "execution_count": 17,
   "metadata": {},
   "outputs": [],
   "source": [
    "data_train=data_train.dropna(subset=['rougher.output.recovery','final.output.recovery'])\n",
    "data_test=data_test.dropna(subset=['rougher.output.recovery','final.output.recovery'])"
   ]
  },
  {
   "cell_type": "code",
   "execution_count": 18,
   "metadata": {},
   "outputs": [],
   "source": [
    "data_train=data_train.ffill().reset_index(drop = True)\n",
    "data_test=data_test.ffill().reset_index(drop = True)"
   ]
  },
  {
   "cell_type": "code",
   "execution_count": 19,
   "metadata": {},
   "outputs": [
    {
     "name": "stdout",
     "output_type": "stream",
     "text": [
      "<class 'pandas.core.frame.DataFrame'>\n",
      "RangeIndex: 14149 entries, 0 to 14148\n",
      "Data columns (total 88 columns):\n",
      " #   Column                                              Non-Null Count  Dtype  \n",
      "---  ------                                              --------------  -----  \n",
      " 0   date                                                14149 non-null  object \n",
      " 1   final.output.concentrate_ag                         14149 non-null  float64\n",
      " 2   final.output.concentrate_pb                         14149 non-null  float64\n",
      " 3   final.output.concentrate_sol                        14149 non-null  float64\n",
      " 4   final.output.concentrate_au                         14149 non-null  float64\n",
      " 5   final.output.recovery                               14149 non-null  float64\n",
      " 6   final.output.tail_ag                                14149 non-null  float64\n",
      " 7   final.output.tail_pb                                14149 non-null  float64\n",
      " 8   final.output.tail_sol                               14149 non-null  float64\n",
      " 9   final.output.tail_au                                14149 non-null  float64\n",
      " 10  primary_cleaner.input.sulfate                       14149 non-null  float64\n",
      " 11  primary_cleaner.input.depressant                    14149 non-null  float64\n",
      " 12  primary_cleaner.input.feed_size                     14149 non-null  float64\n",
      " 13  primary_cleaner.input.xanthate                      14149 non-null  float64\n",
      " 14  primary_cleaner.output.concentrate_ag               14149 non-null  float64\n",
      " 15  primary_cleaner.output.concentrate_pb               14149 non-null  float64\n",
      " 16  primary_cleaner.output.concentrate_sol              14149 non-null  float64\n",
      " 17  primary_cleaner.output.concentrate_au               14149 non-null  float64\n",
      " 18  primary_cleaner.output.tail_ag                      14149 non-null  float64\n",
      " 19  primary_cleaner.output.tail_pb                      14149 non-null  float64\n",
      " 20  primary_cleaner.output.tail_sol                     14149 non-null  float64\n",
      " 21  primary_cleaner.output.tail_au                      14149 non-null  float64\n",
      " 22  primary_cleaner.state.floatbank8_a_air              14149 non-null  float64\n",
      " 23  primary_cleaner.state.floatbank8_a_level            14149 non-null  float64\n",
      " 24  primary_cleaner.state.floatbank8_b_air              14149 non-null  float64\n",
      " 25  primary_cleaner.state.floatbank8_b_level            14149 non-null  float64\n",
      " 26  primary_cleaner.state.floatbank8_c_air              14149 non-null  float64\n",
      " 27  primary_cleaner.state.floatbank8_c_level            14149 non-null  float64\n",
      " 28  primary_cleaner.state.floatbank8_d_air              14149 non-null  float64\n",
      " 29  primary_cleaner.state.floatbank8_d_level            14149 non-null  float64\n",
      " 30  rougher.calculation.sulfate_to_au_concentrate       14149 non-null  float64\n",
      " 31  rougher.calculation.floatbank10_sulfate_to_au_feed  14149 non-null  float64\n",
      " 32  rougher.calculation.floatbank11_sulfate_to_au_feed  14149 non-null  float64\n",
      " 33  rougher.calculation.au_pb_ratio                     14149 non-null  float64\n",
      " 34  rougher.input.feed_ag                               14149 non-null  float64\n",
      " 35  rougher.input.feed_pb                               14149 non-null  float64\n",
      " 36  rougher.input.feed_rate                             14149 non-null  float64\n",
      " 37  rougher.input.feed_size                             14149 non-null  float64\n",
      " 38  rougher.input.feed_sol                              14149 non-null  float64\n",
      " 39  rougher.input.feed_au                               14149 non-null  float64\n",
      " 40  rougher.input.floatbank10_sulfate                   14149 non-null  float64\n",
      " 41  rougher.input.floatbank10_xanthate                  14149 non-null  float64\n",
      " 42  rougher.input.floatbank11_sulfate                   14149 non-null  float64\n",
      " 43  rougher.input.floatbank11_xanthate                  14149 non-null  float64\n",
      " 44  rougher.output.concentrate_ag                       14149 non-null  float64\n",
      " 45  rougher.output.concentrate_pb                       14149 non-null  float64\n",
      " 46  rougher.output.concentrate_sol                      14149 non-null  float64\n",
      " 47  rougher.output.concentrate_au                       14149 non-null  float64\n",
      " 48  rougher.output.recovery                             14149 non-null  float64\n",
      " 49  rougher.output.tail_ag                              14149 non-null  float64\n",
      " 50  rougher.output.tail_pb                              14149 non-null  float64\n",
      " 51  rougher.output.tail_sol                             14149 non-null  float64\n",
      " 52  rougher.output.tail_au                              14149 non-null  float64\n",
      " 53  rougher.state.floatbank10_a_air                     14149 non-null  float64\n",
      " 54  rougher.state.floatbank10_a_level                   14149 non-null  float64\n",
      " 55  rougher.state.floatbank10_b_air                     14149 non-null  float64\n",
      " 56  rougher.state.floatbank10_b_level                   14149 non-null  float64\n",
      " 57  rougher.state.floatbank10_c_air                     14149 non-null  float64\n",
      " 58  rougher.state.floatbank10_c_level                   14149 non-null  float64\n",
      " 59  rougher.state.floatbank10_d_air                     14149 non-null  float64\n",
      " 60  rougher.state.floatbank10_d_level                   14149 non-null  float64\n",
      " 61  rougher.state.floatbank10_e_air                     14149 non-null  float64\n",
      " 62  rougher.state.floatbank10_e_level                   14149 non-null  float64\n",
      " 63  rougher.state.floatbank10_f_air                     14149 non-null  float64\n",
      " 64  rougher.state.floatbank10_f_level                   14149 non-null  float64\n",
      " 65  secondary_cleaner.output.tail_ag                    14149 non-null  float64\n",
      " 66  secondary_cleaner.output.tail_pb                    14149 non-null  float64\n",
      " 67  secondary_cleaner.output.tail_sol                   14149 non-null  float64\n",
      " 68  secondary_cleaner.output.tail_au                    14149 non-null  float64\n",
      " 69  secondary_cleaner.state.floatbank2_a_air            14149 non-null  float64\n",
      " 70  secondary_cleaner.state.floatbank2_a_level          14149 non-null  float64\n",
      " 71  secondary_cleaner.state.floatbank2_b_air            14149 non-null  float64\n",
      " 72  secondary_cleaner.state.floatbank2_b_level          14149 non-null  float64\n",
      " 73  secondary_cleaner.state.floatbank3_a_air            14149 non-null  float64\n",
      " 74  secondary_cleaner.state.floatbank3_a_level          14149 non-null  float64\n",
      " 75  secondary_cleaner.state.floatbank3_b_air            14149 non-null  float64\n",
      " 76  secondary_cleaner.state.floatbank3_b_level          14149 non-null  float64\n",
      " 77  secondary_cleaner.state.floatbank4_a_air            14149 non-null  float64\n",
      " 78  secondary_cleaner.state.floatbank4_a_level          14149 non-null  float64\n",
      " 79  secondary_cleaner.state.floatbank4_b_air            14149 non-null  float64\n",
      " 80  secondary_cleaner.state.floatbank4_b_level          14149 non-null  float64\n",
      " 81  secondary_cleaner.state.floatbank5_a_air            14149 non-null  float64\n",
      " 82  secondary_cleaner.state.floatbank5_a_level          14149 non-null  float64\n",
      " 83  secondary_cleaner.state.floatbank5_b_air            14149 non-null  float64\n",
      " 84  secondary_cleaner.state.floatbank5_b_level          14149 non-null  float64\n",
      " 85  secondary_cleaner.state.floatbank6_a_air            14149 non-null  float64\n",
      " 86  secondary_cleaner.state.floatbank6_a_level          14149 non-null  float64\n",
      " 87  recovery                                            14149 non-null  float64\n",
      "dtypes: float64(87), object(1)\n",
      "memory usage: 9.5+ MB\n",
      "None\n",
      "<class 'pandas.core.frame.DataFrame'>\n",
      "RangeIndex: 5290 entries, 0 to 5289\n",
      "Data columns (total 55 columns):\n",
      " #   Column                                      Non-Null Count  Dtype  \n",
      "---  ------                                      --------------  -----  \n",
      " 0   date                                        5290 non-null   object \n",
      " 1   primary_cleaner.input.sulfate               5290 non-null   float64\n",
      " 2   primary_cleaner.input.depressant            5290 non-null   float64\n",
      " 3   primary_cleaner.input.feed_size             5290 non-null   float64\n",
      " 4   primary_cleaner.input.xanthate              5290 non-null   float64\n",
      " 5   primary_cleaner.state.floatbank8_a_air      5290 non-null   float64\n",
      " 6   primary_cleaner.state.floatbank8_a_level    5290 non-null   float64\n",
      " 7   primary_cleaner.state.floatbank8_b_air      5290 non-null   float64\n",
      " 8   primary_cleaner.state.floatbank8_b_level    5290 non-null   float64\n",
      " 9   primary_cleaner.state.floatbank8_c_air      5290 non-null   float64\n",
      " 10  primary_cleaner.state.floatbank8_c_level    5290 non-null   float64\n",
      " 11  primary_cleaner.state.floatbank8_d_air      5290 non-null   float64\n",
      " 12  primary_cleaner.state.floatbank8_d_level    5290 non-null   float64\n",
      " 13  rougher.input.feed_ag                       5290 non-null   float64\n",
      " 14  rougher.input.feed_pb                       5290 non-null   float64\n",
      " 15  rougher.input.feed_rate                     5290 non-null   float64\n",
      " 16  rougher.input.feed_size                     5290 non-null   float64\n",
      " 17  rougher.input.feed_sol                      5290 non-null   float64\n",
      " 18  rougher.input.feed_au                       5290 non-null   float64\n",
      " 19  rougher.input.floatbank10_sulfate           5290 non-null   float64\n",
      " 20  rougher.input.floatbank10_xanthate          5290 non-null   float64\n",
      " 21  rougher.input.floatbank11_sulfate           5290 non-null   float64\n",
      " 22  rougher.input.floatbank11_xanthate          5290 non-null   float64\n",
      " 23  rougher.state.floatbank10_a_air             5290 non-null   float64\n",
      " 24  rougher.state.floatbank10_a_level           5290 non-null   float64\n",
      " 25  rougher.state.floatbank10_b_air             5290 non-null   float64\n",
      " 26  rougher.state.floatbank10_b_level           5290 non-null   float64\n",
      " 27  rougher.state.floatbank10_c_air             5290 non-null   float64\n",
      " 28  rougher.state.floatbank10_c_level           5290 non-null   float64\n",
      " 29  rougher.state.floatbank10_d_air             5290 non-null   float64\n",
      " 30  rougher.state.floatbank10_d_level           5290 non-null   float64\n",
      " 31  rougher.state.floatbank10_e_air             5290 non-null   float64\n",
      " 32  rougher.state.floatbank10_e_level           5290 non-null   float64\n",
      " 33  rougher.state.floatbank10_f_air             5290 non-null   float64\n",
      " 34  rougher.state.floatbank10_f_level           5290 non-null   float64\n",
      " 35  secondary_cleaner.state.floatbank2_a_air    5290 non-null   float64\n",
      " 36  secondary_cleaner.state.floatbank2_a_level  5290 non-null   float64\n",
      " 37  secondary_cleaner.state.floatbank2_b_air    5290 non-null   float64\n",
      " 38  secondary_cleaner.state.floatbank2_b_level  5290 non-null   float64\n",
      " 39  secondary_cleaner.state.floatbank3_a_air    5290 non-null   float64\n",
      " 40  secondary_cleaner.state.floatbank3_a_level  5290 non-null   float64\n",
      " 41  secondary_cleaner.state.floatbank3_b_air    5290 non-null   float64\n",
      " 42  secondary_cleaner.state.floatbank3_b_level  5290 non-null   float64\n",
      " 43  secondary_cleaner.state.floatbank4_a_air    5290 non-null   float64\n",
      " 44  secondary_cleaner.state.floatbank4_a_level  5290 non-null   float64\n",
      " 45  secondary_cleaner.state.floatbank4_b_air    5290 non-null   float64\n",
      " 46  secondary_cleaner.state.floatbank4_b_level  5290 non-null   float64\n",
      " 47  secondary_cleaner.state.floatbank5_a_air    5290 non-null   float64\n",
      " 48  secondary_cleaner.state.floatbank5_a_level  5290 non-null   float64\n",
      " 49  secondary_cleaner.state.floatbank5_b_air    5290 non-null   float64\n",
      " 50  secondary_cleaner.state.floatbank5_b_level  5290 non-null   float64\n",
      " 51  secondary_cleaner.state.floatbank6_a_air    5290 non-null   float64\n",
      " 52  secondary_cleaner.state.floatbank6_a_level  5290 non-null   float64\n",
      " 53  final.output.recovery                       5290 non-null   float64\n",
      " 54  rougher.output.recovery                     5290 non-null   float64\n",
      "dtypes: float64(54), object(1)\n",
      "memory usage: 2.2+ MB\n",
      "None\n"
     ]
    }
   ],
   "source": [
    "print(data_train.info())\n",
    "print(data_test.info())"
   ]
  },
  {
   "cell_type": "markdown",
   "metadata": {},
   "source": [
    "Тестовая и тренировочная выборки отличаются по количесвту нецелевых признаков, это может помешать в обучении нашей моедли в дальнейшем. Так как мы уже добавили в тестовую выборку необходимые нам целевые признаки, оставим в тренировочной выборке только те нецелевые признаки, которые есть в тестовой выборке."
   ]
  },
  {
   "cell_type": "code",
   "execution_count": 20,
   "metadata": {},
   "outputs": [],
   "source": [
    "data_train=data_train[data_test.columns]"
   ]
  },
  {
   "cell_type": "code",
   "execution_count": 21,
   "metadata": {},
   "outputs": [
    {
     "name": "stdout",
     "output_type": "stream",
     "text": [
      "Рaзмер data_train: (14149, 55)\n",
      "Рaзмер data_test: (5290, 55)\n"
     ]
    }
   ],
   "source": [
    "print('Рaзмер data_train:',data_train.shape)\n",
    "print('Рaзмер data_test:',data_test.shape)"
   ]
  },
  {
   "cell_type": "markdown",
   "metadata": {},
   "source": [
    "## Анализ данных"
   ]
  },
  {
   "cell_type": "markdown",
   "metadata": {},
   "source": [
    "Посмотрим как меняется концентрация металов на разных стадиях очистки."
   ]
  },
  {
   "cell_type": "code",
   "execution_count": 22,
   "metadata": {},
   "outputs": [
    {
     "data": {
      "image/png": "[encoded data removed]",
      "text/plain": [
       "<Figure size 864x360 with 1 Axes>"
      ]
     },
     "metadata": {
      "needs_background": "light"
     },
     "output_type": "display_data"
    }
   ],
   "source": [
    "plt.figure(figsize=(12, 5))\n",
    "\n",
    "x_values = ('Сырьё', 'После флотации', 'После первичной очистки', 'После вторичной очистки')\n",
    "\n",
    "y_values_pb = (\n",
    "    data_full['rougher.input.feed_pb'].sum(), \n",
    "    data_full['rougher.output.concentrate_pb'].sum(), \n",
    "    data_full['primary_cleaner.output.concentrate_pb'].sum(), \n",
    "    data_full['final.output.concentrate_pb'].sum()\n",
    ")\n",
    "\n",
    "y_values_ag = (\n",
    "    data_full['rougher.input.feed_ag'].sum(), \n",
    "    data_full['rougher.output.concentrate_ag'].sum(), \n",
    "    data_full['primary_cleaner.output.concentrate_ag'].sum(), \n",
    "    data_full['final.output.concentrate_ag'].sum()\n",
    ")\n",
    "\n",
    "y_values_au = (\n",
    "    data_full['rougher.input.feed_au'].sum(), \n",
    "    data_full['rougher.output.concentrate_au'].sum(), \n",
    "    data_full['primary_cleaner.output.concentrate_au'].sum(), \n",
    "    data_full['final.output.concentrate_au'].sum()\n",
    ")\n",
    "plt.bar(x_values, y_values_au, label='Концентрация золота',\\\n",
    "        facecolor='none',alpha=0.7, edgecolor='yellow', linewidth=5)\n",
    "plt.bar(x_values, y_values_pb, label='Концентрация свинца',\\\n",
    "        facecolor='none',alpha=0.7, edgecolor='orange', linewidth=5)\n",
    "plt.bar(x_values, y_values_ag, label='Концентрация серебра',\\\n",
    "        facecolor='none',alpha=0.7, edgecolor='grey', linewidth=5)\n",
    "\n",
    "\n",
    "plt.title(\"Изменение концентрации металлов на различных этапах\")\n",
    "plt.xlabel(\"Этапы отчистки\")\n",
    "plt.ylabel(\"Концентрация\")\n",
    "plt.legend()\n",
    "plt.show()\n"
   ]
  },
  {
   "cell_type": "markdown",
   "metadata": {},
   "source": [
    "На графике видно, что концентрация золота с каждым этапом увеличивается и превосходит по объему другие компоненты. Концентрация свинца также на каждом этапе растет, чего нельзя сказать о концентрации серебра. "
   ]
  },
  {
   "cell_type": "markdown",
   "metadata": {},
   "source": [
    "Проверим имеет ли различие размер гранул в тестовой и валидационной выборках, это тоже немаловажный фактор корректного обучения моделей"
   ]
  },
  {
   "cell_type": "code",
   "execution_count": 23,
   "metadata": {},
   "outputs": [
    {
     "data": {
      "image/png": "[encoded data removed]",
      "text/plain": [
       "<Figure size 1296x360 with 1 Axes>"
      ]
     },
     "metadata": {
      "needs_background": "light"
     },
     "output_type": "display_data"
    }
   ],
   "source": [
    "plt.figure(figsize=(18, 5))\n",
    "\n",
    "data_train['rougher.input.feed_size'].sort_values(ascending= True).plot.kde(label='Обучающая выборка')\n",
    "data_test['rougher.input.feed_size'].sort_values(ascending= True).plot.kde(label='Тестовая выборка')\n",
    "\n",
    "plt.xlim(-100,400)\n",
    "plt.title(\"Распределение размеров гранул в выборках\")\n",
    "plt.xlabel(\"Количество гранул\")\n",
    "plt.ylabel(\"Размер гранул\")\n",
    "plt.grid(True)\n",
    "plt.legend()\n",
    "plt.show;"
   ]
  },
  {
   "cell_type": "markdown",
   "metadata": {},
   "source": [
    "Размер гранул в выборка имеет незначительное различие, это не окажет сильного негативного влияния поэтому не будем его корректировать"
   ]
  },
  {
   "cell_type": "markdown",
   "metadata": {},
   "source": [
    "Проведем исследование суммарной концентрации всех веществ на разных стадиях обработки:в сырье, в черновом и финальном концентратах."
   ]
  },
  {
   "cell_type": "code",
   "execution_count": 24,
   "metadata": {},
   "outputs": [
    {
     "data": {
      "image/png": "[encoded data removed]",
      "text/plain": [
       "<Figure size 1080x360 with 1 Axes>"
      ]
     },
     "metadata": {
      "needs_background": "light"
     },
     "output_type": "display_data"
    }
   ],
   "source": [
    "plt.figure(figsize=(15, 5))\n",
    "\n",
    "input_rougher = (\n",
    "        data_full['rougher.input.feed_au'] + \n",
    "        data_full['rougher.input.feed_ag'] + \n",
    "        data_full['rougher.input.feed_pb']\n",
    "    ).plot.kde(label='Сырье')\n",
    "\n",
    "output_rougher = (\n",
    "        data_full['rougher.output.concentrate_au'] +\n",
    "        data_full['rougher.output.concentrate_ag'] +\n",
    "        data_full['rougher.output.concentrate_pb']\n",
    "    ).plot.kde(label='После флотации')\n",
    "\n",
    "output_cleaner = (\n",
    "        data_full['primary_cleaner.output.concentrate_au'] +\n",
    "        data_full['primary_cleaner.output.concentrate_ag'] +\n",
    "        data_full['primary_cleaner.output.concentrate_pb']\n",
    "    ).plot.kde(label='После первой очистки')\n",
    "\n",
    "output_final = (\n",
    "        data_full['final.output.concentrate_au'] +\n",
    "        data_full['final.output.concentrate_ag'] +\n",
    "        data_full['final.output.concentrate_pb']\n",
    "    ).plot.kde(label='Итоговая')\n",
    "    \n",
    "plt.title(\"Распределения суммарной концентрации металлов\")\n",
    "plt.xlabel(\"Объем\")\n",
    "plt.ylabel(\"Суммарная концентрация\")\n",
    "plt.grid(True)\n",
    "plt.legend()\n",
    "plt.show;"
   ]
  },
  {
   "cell_type": "markdown",
   "metadata": {},
   "source": [
    "Суммарная концентрация металлов после каждого этапа обработки стабильно увеличивается. В \"хвосты\" не уходит значительная часть важных веществ. На графике видны выбросы около 0, такие данные помешают нашей модели, поэтому проанализируем суммарную концентрацию каждого вещества и удалим аномалии из выборки. Для начала напишем функцию, которая расчитает сумму концентраций и добавит их в качестве нового столбца в каждую выборку.В тестовую и тренировочную выборку добавляем новые данные путем объединения таблиц по дате из полного датасета.\n"
   ]
  },
  {
   "cell_type": "code",
   "execution_count": 25,
   "metadata": {},
   "outputs": [],
   "source": [
    "def concentrat(data,ag,au,pb):\n",
    "    ag=data[ag]\n",
    "    au=data[au]\n",
    "    pb=data[pb]\n",
    "    sum_column=ag+au+pb\n",
    "    return sum_column"
   ]
  },
  {
   "cell_type": "code",
   "execution_count": 26,
   "metadata": {},
   "outputs": [],
   "source": [
    "data_full['sum_concentration'] = concentrat(data_full,'final.output.concentrate_ag','final.output.concentrate_au','final.output.concentrate_pb')"
   ]
  },
  {
   "cell_type": "code",
   "execution_count": 27,
   "metadata": {},
   "outputs": [],
   "source": [
    "new_data=data_full[['date','sum_concentration']]\n",
    "\n",
    "data_train = data_train.merge (new_data, on='date', how='left')\n",
    "\n",
    "data_test = data_test.merge (new_data, on='date', how='left')"
   ]
  },
  {
   "cell_type": "markdown",
   "metadata": {},
   "source": [
    "Теперь, благодаря добавленному столбцу, мы можем определить аномалии и убрать их из данных. Для удобства создадим простую функцию, отсеивающую из выборки значения выше порогового."
   ]
  },
  {
   "cell_type": "code",
   "execution_count": 28,
   "metadata": {},
   "outputs": [],
   "source": [
    "def delete_trash(data,column,threshold):\n",
    "    data=data[data[column] > threshold]\n",
    "    return data"
   ]
  },
  {
   "cell_type": "markdown",
   "metadata": {},
   "source": [
    "Для созданных столбцов посмотрим численное описание данных чтобы выбрать необходимый нам порог."
   ]
  },
  {
   "cell_type": "code",
   "execution_count": 29,
   "metadata": {},
   "outputs": [
    {
     "data": {
      "image/png": "[encoded data removed]",
      "text/plain": [
       "<Figure size 432x288 with 1 Axes>"
      ]
     },
     "metadata": {
      "needs_background": "light"
     },
     "output_type": "display_data"
    }
   ],
   "source": [
    "data_full['sum_concentration'].describe()\n",
    "data_full['sum_concentration'].plot.kde();"
   ]
  },
  {
   "cell_type": "code",
   "execution_count": 30,
   "metadata": {},
   "outputs": [
    {
     "data": {
      "image/png": "[encoded data removed]",
      "text/plain": [
       "<Figure size 432x288 with 1 Axes>"
      ]
     },
     "metadata": {
      "needs_background": "light"
     },
     "output_type": "display_data"
    }
   ],
   "source": [
    "data_train['sum_concentration'].describe()\n",
    "data_train['sum_concentration'].plot.kde();"
   ]
  },
  {
   "cell_type": "code",
   "execution_count": 31,
   "metadata": {},
   "outputs": [
    {
     "data": {
      "image/png": "[encoded data removed]",
      "text/plain": [
       "<Figure size 432x288 with 1 Axes>"
      ]
     },
     "metadata": {
      "needs_background": "light"
     },
     "output_type": "display_data"
    }
   ],
   "source": [
    "data_test['sum_concentration'].describe()\n",
    "data_test['sum_concentration'].plot.kde();"
   ]
  },
  {
   "cell_type": "markdown",
   "metadata": {},
   "source": [
    "Опираясь на значения стандартного отклонения и среднего значения поставим для каждой выборки порог в 50."
   ]
  },
  {
   "cell_type": "code",
   "execution_count": 32,
   "metadata": {},
   "outputs": [],
   "source": [
    "data_full=delete_trash(data_full,'sum_concentration', 50)\n",
    "data_test=delete_trash(data_test,'sum_concentration', 50)\n",
    "data_train=delete_trash(data_train,'sum_concentration', 50)"
   ]
  },
  {
   "cell_type": "code",
   "execution_count": 33,
   "metadata": {},
   "outputs": [
    {
     "data": {
      "text/plain": [
       "count    18862.000000\n",
       "mean        60.113251\n",
       "std          1.599453\n",
       "min         50.000861\n",
       "25%         59.402173\n",
       "50%         60.355119\n",
       "75%         61.124889\n",
       "max         64.968881\n",
       "Name: sum_concentration, dtype: float64"
      ]
     },
     "execution_count": 33,
     "metadata": {},
     "output_type": "execute_result"
    },
    {
     "data": {
      "image/png": "[encoded data removed]",
      "text/plain": [
       "<Figure size 432x288 with 1 Axes>"
      ]
     },
     "metadata": {
      "needs_background": "light"
     },
     "output_type": "display_data"
    }
   ],
   "source": [
    "data_full['sum_concentration'].plot.kde();\n",
    "data_full['sum_concentration'].describe()"
   ]
  },
  {
   "cell_type": "code",
   "execution_count": 34,
   "metadata": {},
   "outputs": [
    {
     "data": {
      "text/plain": [
       "count    5082.000000\n",
       "mean       60.283437\n",
       "std         1.598278\n",
       "min        50.103282\n",
       "25%        59.647806\n",
       "50%        60.506436\n",
       "75%        61.242983\n",
       "max        63.809530\n",
       "Name: sum_concentration, dtype: float64"
      ]
     },
     "execution_count": 34,
     "metadata": {},
     "output_type": "execute_result"
    },
    {
     "data": {
      "image/png": "[encoded data removed]",
      "text/plain": [
       "<Figure size 432x288 with 1 Axes>"
      ]
     },
     "metadata": {
      "needs_background": "light"
     },
     "output_type": "display_data"
    }
   ],
   "source": [
    "data_test['sum_concentration'].plot.kde();\n",
    "data_test['sum_concentration'].describe()"
   ]
  },
  {
   "cell_type": "code",
   "execution_count": 35,
   "metadata": {},
   "outputs": [
    {
     "data": {
      "text/plain": [
       "count    13780.000000\n",
       "mean        60.050488\n",
       "std          1.595369\n",
       "min         50.000861\n",
       "25%         59.296663\n",
       "50%         60.300821\n",
       "75%         61.077911\n",
       "max         64.968881\n",
       "Name: sum_concentration, dtype: float64"
      ]
     },
     "execution_count": 35,
     "metadata": {},
     "output_type": "execute_result"
    },
    {
     "data": {
      "image/png": "[encoded data removed]",
      "text/plain": [
       "<Figure size 432x288 with 1 Axes>"
      ]
     },
     "metadata": {
      "needs_background": "light"
     },
     "output_type": "display_data"
    }
   ],
   "source": [
    "data_train['sum_concentration'].plot.kde();\n",
    "data_train['sum_concentration'].describe()"
   ]
  },
  {
   "cell_type": "markdown",
   "metadata": {},
   "source": [
    "Готово, данные скорректированы. Теперь удалим созданные нами столбцы, в дальнейшем они нам не понядобятся и могут привести к переобучению модели."
   ]
  },
  {
   "cell_type": "code",
   "execution_count": 36,
   "metadata": {},
   "outputs": [],
   "source": [
    "data_train = data_train.drop(['sum_concentration'], axis=1)\n",
    "data_test = data_test.drop(['sum_concentration'], axis=1)"
   ]
  },
  {
   "cell_type": "markdown",
   "metadata": {},
   "source": [
    "## Модель"
   ]
  },
  {
   "cell_type": "markdown",
   "metadata": {},
   "source": [
    "Перед тем как начать обучение моделей и проверять их качество, напишем функции для вычисления sMAPE и итогового sMAPE. Они помогут нам в будущем определить насколько хорошо модель сделала предсказание двух признаков: rougher.output.recovery и final.output.recovery."
   ]
  },
  {
   "cell_type": "code",
   "execution_count": 37,
   "metadata": {},
   "outputs": [],
   "source": [
    "def smape(target,predict):\n",
    "    results = abs(target - predict) / ((abs(target) + abs(predict)) / 2)\n",
    "    return -1*((results.sum() / len(results)) * 100).round(2)"
   ]
  },
  {
   "cell_type": "code",
   "execution_count": 38,
   "metadata": {},
   "outputs": [],
   "source": [
    "def fin_smape(result,final):\n",
    "    fin_smape = (0.25*result)+(0.75*final)\n",
    "    return fin_smape.round(2)"
   ]
  },
  {
   "cell_type": "markdown",
   "metadata": {},
   "source": [
    "Также перед обучением необходимо разбить тренировочную выборку на признаки по которым модель будет обучаться и по которым мы сможем выяснить как хорошо модель обучилась."
   ]
  },
  {
   "cell_type": "code",
   "execution_count": 39,
   "metadata": {},
   "outputs": [],
   "source": [
    "features=data_train.drop(['date','rougher.output.recovery', 'final.output.recovery'], axis=1)\n",
    "target_rougher=data_train['rougher.output.recovery']\n",
    "target_final=data_train['final.output.recovery']\n",
    "state=12345"
   ]
  },
  {
   "cell_type": "markdown",
   "metadata": {},
   "source": [
    "Наши модели необходимо будет проверять посредством кросс-валидации, для этого создадим отдельную функцию."
   ]
  },
  {
   "cell_type": "code",
   "execution_count": 40,
   "metadata": {},
   "outputs": [],
   "source": [
    "def cross_check(model):\n",
    "    score_val_r = (cross_val_score(model, features, target_rougher, cv=5, scoring=make_scorer(smape, greater_is_better=False))).mean() \n",
    "    print('Cреднее значение sMAPE для `rougher`: ',score_val_r.round(2))\n",
    "\n",
    "    \n",
    "    score_val_f = (cross_val_score(model, features, target_final, cv=5, scoring=make_scorer(smape, greater_is_better=False))).mean() \n",
    "    print('Cреднее значение sMAPE для `final`: ',score_val_f.round(2))\n",
    "\n",
    "    fin_score= fin_smape(score_val_r,score_val_f)\n",
    "    print('Итоговое sMAPE модели на кросс-валидации: ',fin_score.round(2)) "
   ]
  },
  {
   "cell_type": "markdown",
   "metadata": {},
   "source": [
    "### Дерево решений"
   ]
  },
  {
   "cell_type": "markdown",
   "metadata": {},
   "source": [
    "Сначала оцениваем модель посредством кросс-валидации и созданной ранее функции"
   ]
  },
  {
   "cell_type": "code",
   "execution_count": 41,
   "metadata": {},
   "outputs": [
    {
     "name": "stdout",
     "output_type": "stream",
     "text": [
      "Cреднее значение sMAPE для `rougher`:  17.39\n",
      "Cреднее значение sMAPE для `final`:  15.37\n",
      "Итоговое sMAPE модели на кросс-валидации:  15.88\n"
     ]
    }
   ],
   "source": [
    "cross_check(DecisionTreeRegressor(random_state=state))"
   ]
  },
  {
   "cell_type": "markdown",
   "metadata": {},
   "source": [
    "Методом перебора выбирае глубину дерева, при которой модель даст оптимальные результаты"
   ]
  },
  {
   "cell_type": "code",
   "execution_count": 42,
   "metadata": {},
   "outputs": [
    {
     "name": "stdout",
     "output_type": "stream",
     "text": [
      "Лучшее значение sMAPE модели для 'rougher.output.recovery': 11.376000000000001\n",
      "Количество деревьев: 5\n"
     ]
    }
   ],
   "source": [
    "best_result_r = 100\n",
    "best_depth = 0\n",
    "for depth in range(1, 50):\n",
    "    model_dtr_r = DecisionTreeRegressor(random_state=state, max_depth=depth)\n",
    "    result = -1*cross_val_score(model_dtr_r,features,target_rougher, cv=5, scoring=make_scorer(smape, greater_is_better=True)).mean()\n",
    "\n",
    "    if result < best_result_r:\n",
    "        best_result_r = result\n",
    "        best_depth = depth\n",
    "\n",
    "print(\"Лучшее значение sMAPE модели для 'rougher.output.recovery':\", best_result_r)\n",
    "print(\"Количество деревьев:\", best_depth)"
   ]
  },
  {
   "cell_type": "code",
   "execution_count": 43,
   "metadata": {},
   "outputs": [
    {
     "name": "stdout",
     "output_type": "stream",
     "text": [
      "Лучшее значение sMAPE модели для 'final.output.recovery': 9.166\n",
      "Количество деревьев: 2\n"
     ]
    }
   ],
   "source": [
    "best_result_f = 100\n",
    "best_depth = 0\n",
    "for depth in range(1, 50):\n",
    "    model_dtr_f = DecisionTreeRegressor(random_state=state, max_depth=depth)\n",
    "    result = -1*cross_val_score(model_dtr_f,features,target_final, cv=5, scoring=make_scorer(smape, greater_is_better=True)).mean()\n",
    "    \n",
    "    if result < best_result_f:\n",
    "        best_result_f = result\n",
    "        best_depth = depth\n",
    "\n",
    "print(\"Лучшее значение sMAPE модели для 'final.output.recovery':\", best_result_f)\n",
    "print(\"Количество деревьев:\", best_depth)"
   ]
  },
  {
   "cell_type": "markdown",
   "metadata": {},
   "source": [
    "Cимметричное среднее абсолютное процентное отклонение данной модели:"
   ]
  },
  {
   "cell_type": "code",
   "execution_count": 44,
   "metadata": {},
   "outputs": [
    {
     "data": {
      "text/plain": [
       "10.82"
      ]
     },
     "execution_count": 44,
     "metadata": {},
     "output_type": "execute_result"
    }
   ],
   "source": [
    "fin_smape(best_result_f,best_result_r)"
   ]
  },
  {
   "cell_type": "markdown",
   "metadata": {},
   "source": [
    "### Случайный лес\n",
    "\n",
    "Сначала проверим модель посредством кросс-валидации"
   ]
  },
  {
   "cell_type": "code",
   "execution_count": 45,
   "metadata": {},
   "outputs": [
    {
     "name": "stdout",
     "output_type": "stream",
     "text": [
      "Cреднее значение sMAPE для `rougher`:  13.27\n",
      "Cреднее значение sMAPE для `final`:  9.52\n",
      "Итоговое sMAPE модели на кросс-валидации:  10.46\n"
     ]
    }
   ],
   "source": [
    "cross_check(RandomForestRegressor(random_state=state))"
   ]
  },
  {
   "cell_type": "markdown",
   "metadata": {},
   "source": [
    "При помощи перебора параметров определим оптимальный набор для получения наилучших показателей"
   ]
  },
  {
   "cell_type": "code",
   "execution_count": 46,
   "metadata": {},
   "outputs": [
    {
     "name": "stdout",
     "output_type": "stream",
     "text": [
      "Лучшее значение sMAPE модели для 'rougher.output.recovery': 10.866000000000001\n",
      "Количество деревьев: 6\n",
      "Глубина деревьев: 20\n"
     ]
    }
   ],
   "source": [
    "best_result_r = 100\n",
    "best_depth = 0\n",
    "best_est = 0\n",
    "for depth in range(1, 10):\n",
    "    for est in range (5,25,5):\n",
    "        model_rfr_r = RandomForestRegressor(random_state=state, max_depth=depth, n_estimators=est)\n",
    "        result = -1*cross_val_score(model_rfr_r,features,target_rougher, cv=5, scoring=make_scorer(smape, greater_is_better=True)).mean()\n",
    "\n",
    "        if result < best_result_r:\n",
    "            best_result_r = result\n",
    "            best_depth = depth\n",
    "            best_est = est\n",
    "\n",
    "print(\"Лучшее значение sMAPE модели для 'rougher.output.recovery':\", best_result_r)\n",
    "print(\"Количество деревьев:\", best_depth)\n",
    "print(\"Глубина деревьев:\", best_est)"
   ]
  },
  {
   "cell_type": "code",
   "execution_count": 47,
   "metadata": {},
   "outputs": [
    {
     "name": "stdout",
     "output_type": "stream",
     "text": [
      "Лучшее значение sMAPE модели для 'final.output.recovery': 8.792000000000002\n",
      "Количество деревьев: 4\n",
      "Глубина деревьев: 20\n"
     ]
    }
   ],
   "source": [
    "best_result_f = 100\n",
    "best_depth = 0\n",
    "best_est = 0\n",
    "for depth in range(1, 10):\n",
    "    for est in range (5,25,5):\n",
    "        model_rfr_f = RandomForestRegressor(random_state=state, max_depth=depth, n_estimators=est)\n",
    "        result = -1*cross_val_score(model_rfr_f,features,target_final, cv=5, scoring=make_scorer(smape, greater_is_better=True)).mean()\n",
    "\n",
    "        if result < best_result_f:\n",
    "            best_result_f = result\n",
    "            best_depth = depth\n",
    "            best_est = est\n",
    "\n",
    "print(\"Лучшее значение sMAPE модели для 'final.output.recovery':\", best_result_f)\n",
    "print(\"Количество деревьев:\", best_depth)\n",
    "print(\"Глубина деревьев:\", best_est)"
   ]
  },
  {
   "cell_type": "markdown",
   "metadata": {},
   "source": [
    "Cимметричное среднее абсолютное процентное отклонение данной модели:"
   ]
  },
  {
   "cell_type": "code",
   "execution_count": 48,
   "metadata": {},
   "outputs": [
    {
     "data": {
      "text/plain": [
       "10.35"
      ]
     },
     "execution_count": 48,
     "metadata": {},
     "output_type": "execute_result"
    }
   ],
   "source": [
    "fin_smape(best_result_f,best_result_r)"
   ]
  },
  {
   "cell_type": "markdown",
   "metadata": {},
   "source": [
    "### Линейная регрессия"
   ]
  },
  {
   "cell_type": "markdown",
   "metadata": {},
   "source": [
    "Проверим модель линейной регрессии посредством кросс-валидации и посмотрим какой показатель sMAPE даст нам модель"
   ]
  },
  {
   "cell_type": "code",
   "execution_count": 49,
   "metadata": {},
   "outputs": [
    {
     "name": "stdout",
     "output_type": "stream",
     "text": [
      "Cреднее значение sMAPE для `rougher`:  12.59\n",
      "Cреднее значение sMAPE для `final`:  10.84\n",
      "Итоговое sMAPE модели на кросс-валидации:  11.28\n"
     ]
    }
   ],
   "source": [
    "cross_check(LinearRegression())"
   ]
  },
  {
   "cell_type": "code",
   "execution_count": 50,
   "metadata": {},
   "outputs": [
    {
     "name": "stdout",
     "output_type": "stream",
     "text": [
      "Лучшее значение sMAPE модели для 'rougher.output.recovery': 12.59\n",
      "Лучшее значение sMAPE модели для 'final.output.recovery': 10.84\n"
     ]
    }
   ],
   "source": [
    "model_lr_r = LinearRegression()\n",
    "result_r = -1*cross_val_score(\n",
    "    model_lr_r, features,target_rougher,cv=5, \n",
    "    scoring=make_scorer(smape, greater_is_better=True)\n",
    ").mean()\n",
    "result_f = -1*cross_val_score(\n",
    "    model_lr_r, features, target_final, cv=5, \n",
    "    scoring=make_scorer(smape, greater_is_better=True)\n",
    ").mean()\n",
    "print(\"Лучшее значение sMAPE модели для 'rougher.output.recovery':\", result_r.round(2))\n",
    "print(\"Лучшее значение sMAPE модели для 'final.output.recovery':\", result_f.round(2))"
   ]
  },
  {
   "cell_type": "markdown",
   "metadata": {},
   "source": [
    "Cимметричное среднее абсолютное процентное отклонение данной модели:"
   ]
  },
  {
   "cell_type": "code",
   "execution_count": 51,
   "metadata": {},
   "outputs": [
    {
     "data": {
      "text/plain": [
       "12.15"
      ]
     },
     "execution_count": 51,
     "metadata": {},
     "output_type": "execute_result"
    }
   ],
   "source": [
    "fin_smape(result_f,result_r)"
   ]
  },
  {
   "cell_type": "markdown",
   "metadata": {},
   "source": [
    "Лучшие показатели нам дала модель Случайного леса(sMAPE = 10.73). Обучим данную модель на тренировочной выборке и получим предсказания по тестовой выборке. Для каждого целевого признака вводим параметры соответствующие им выше."
   ]
  },
  {
   "cell_type": "code",
   "execution_count": 52,
   "metadata": {},
   "outputs": [],
   "source": [
    "model_rfr_f = RandomForestRegressor(random_state=state, max_depth=15, n_estimators=5)\n",
    "model_rfr_r = RandomForestRegressor(random_state=state, max_depth=20, n_estimators=6)\n",
    "\n",
    "model_rfr_f.fit(features, target_final)\n",
    "model_rfr_r.fit(features, target_rougher);"
   ]
  },
  {
   "cell_type": "markdown",
   "metadata": {},
   "source": [
    "Выделим на тестовой выборке признаки в отдельные переменные"
   ]
  },
  {
   "cell_type": "code",
   "execution_count": 53,
   "metadata": {},
   "outputs": [],
   "source": [
    "features_test = data_test.drop(['date','rougher.output.recovery', 'final.output.recovery'],\\\n",
    "                             axis=1)\n",
    "target_test_f = data_test['final.output.recovery']\n",
    "target_test_r = data_test['rougher.output.recovery']"
   ]
  },
  {
   "cell_type": "code",
   "execution_count": 54,
   "metadata": {},
   "outputs": [],
   "source": [
    "predict_test_f = model_rfr_f.predict(features_test)\n",
    "predict_test_r = model_rfr_r.predict(features_test)"
   ]
  },
  {
   "cell_type": "code",
   "execution_count": 55,
   "metadata": {},
   "outputs": [
    {
     "name": "stdout",
     "output_type": "stream",
     "text": [
      "Результаты sMAPE на тестовой выборке: 9.36\n"
     ]
    }
   ],
   "source": [
    "smape_test_f =-1*smape(target_test_f,predict_test_f)\n",
    "smape_test_r =-1*smape(target_test_r,predict_test_r)\n",
    "final_smape =fin_smape(smape_test_r,smape_test_f)\n",
    "print('Результаты sMAPE на тестовой выборке:',final_smape)"
   ]
  },
  {
   "cell_type": "markdown",
   "metadata": {},
   "source": [
    "Проверим адекватность нашей модели посредством константной модели. Для этого мы будем использовать DummyRegressor"
   ]
  },
  {
   "cell_type": "code",
   "execution_count": 56,
   "metadata": {},
   "outputs": [],
   "source": [
    "const_final = DummyRegressor(strategy='mean')\n",
    "const_rougher = DummyRegressor(strategy='mean')"
   ]
  },
  {
   "cell_type": "code",
   "execution_count": 57,
   "metadata": {},
   "outputs": [],
   "source": [
    "const_final.fit(features, target_final)\n",
    "const_rougher.fit(features, target_rougher);"
   ]
  },
  {
   "cell_type": "code",
   "execution_count": 58,
   "metadata": {},
   "outputs": [],
   "source": [
    "const_predict_rougher = const_rougher.predict(features_test)\n",
    "const_predict_final = const_rougher.predict(features_test)"
   ]
  },
  {
   "cell_type": "code",
   "execution_count": 59,
   "metadata": {},
   "outputs": [
    {
     "name": "stdout",
     "output_type": "stream",
     "text": [
      "Показатели sMAPE константной модели: 16.63\n"
     ]
    }
   ],
   "source": [
    "const_smape_rougher = -1*smape(target_test_r, const_predict_rougher)\n",
    "const_smape_final =-1* smape(target_test_f, const_predict_final)\n",
    "final_smape_const = fin_smape(const_smape_rougher, const_smape_final)\n",
    "print('Показатели sMAPE константной модели:',final_smape_const)"
   ]
  },
  {
   "cell_type": "markdown",
   "metadata": {},
   "source": [
    "## Вывод"
   ]
  },
  {
   "cell_type": "markdown",
   "metadata": {},
   "source": [
    "Была проведена работа по изучению золотосодержащей руды, концентрации определенных компонентов в ней, было выявлено повышение суммарной концентрации в процессе обработки руды, обработка данных для обучения моделей, выбор оптимальной модели, пресказывающей конечные результаты обработки руды. Самой оптимальной моделью в нашей работе стала модель Случайного леса. Всего было использовано три модели: Дерево решений, Случайный лес и Линейная регрессия. Cимметричное среднее абсолютное процентное отклонение выбранной модели на тестовой выборке равно 9.36, что лучше показателя константной модели на 43.7%"
   ]
  }
 ],
 "metadata": {
  "ExecuteTimeLog": [
   {
    "duration": 1552,
    "start_time": "2023-03-23T11:57:01.012Z"
   },
   {
    "duration": 150,
    "start_time": "2023-03-23T11:57:02.566Z"
   },
   {
    "duration": 2009,
    "start_time": "2023-03-23T11:59:05.697Z"
   },
   {
    "duration": 3,
    "start_time": "2023-03-23T12:18:17.185Z"
   },
   {
    "duration": 683,
    "start_time": "2023-03-23T12:18:17.190Z"
   },
   {
    "duration": 35,
    "start_time": "2023-03-23T12:18:17.875Z"
   },
   {
    "duration": 1131,
    "start_time": "2023-03-23T12:18:17.911Z"
   },
   {
    "duration": 28,
    "start_time": "2023-03-23T12:18:19.045Z"
   },
   {
    "duration": 670,
    "start_time": "2023-03-23T12:18:19.074Z"
   },
   {
    "duration": 78,
    "start_time": "2023-03-23T12:18:19.746Z"
   },
   {
    "duration": 951,
    "start_time": "2023-03-23T12:18:19.825Z"
   },
   {
    "duration": 215,
    "start_time": "2023-03-23T12:18:20.777Z"
   },
   {
    "duration": 4,
    "start_time": "2023-03-23T12:18:20.993Z"
   },
   {
    "duration": 20,
    "start_time": "2023-03-23T12:18:20.999Z"
   },
   {
    "duration": 45,
    "start_time": "2023-03-23T12:18:21.020Z"
   },
   {
    "duration": 9,
    "start_time": "2023-03-23T12:18:21.066Z"
   },
   {
    "duration": 24,
    "start_time": "2023-03-23T12:18:21.077Z"
   },
   {
    "duration": 27,
    "start_time": "2023-03-23T12:18:21.102Z"
   },
   {
    "duration": 32,
    "start_time": "2023-03-23T12:18:21.131Z"
   },
   {
    "duration": 10,
    "start_time": "2023-03-23T12:18:21.164Z"
   },
   {
    "duration": 12,
    "start_time": "2023-03-23T12:18:21.175Z"
   },
   {
    "duration": 24,
    "start_time": "2023-03-23T12:18:21.188Z"
   },
   {
    "duration": 4,
    "start_time": "2023-03-23T12:18:21.214Z"
   },
   {
    "duration": 23,
    "start_time": "2023-03-23T12:18:21.219Z"
   },
   {
    "duration": 180,
    "start_time": "2023-03-23T12:18:21.243Z"
   },
   {
    "duration": 625,
    "start_time": "2023-03-23T12:18:21.425Z"
   },
   {
    "duration": 2000,
    "start_time": "2023-03-23T12:18:22.052Z"
   },
   {
    "duration": 3,
    "start_time": "2023-03-23T12:18:24.053Z"
   },
   {
    "duration": 5,
    "start_time": "2023-03-23T12:18:24.058Z"
   },
   {
    "duration": 7,
    "start_time": "2023-03-23T12:18:24.064Z"
   },
   {
    "duration": 6,
    "start_time": "2023-03-23T12:18:24.072Z"
   },
   {
    "duration": 10334,
    "start_time": "2023-03-23T12:18:24.081Z"
   },
   {
    "duration": 70,
    "start_time": "2023-03-23T12:18:34.416Z"
   },
   {
    "duration": 0,
    "start_time": "2023-03-23T12:18:34.488Z"
   },
   {
    "duration": 0,
    "start_time": "2023-03-23T12:18:34.489Z"
   },
   {
    "duration": 0,
    "start_time": "2023-03-23T12:18:34.490Z"
   },
   {
    "duration": 0,
    "start_time": "2023-03-23T12:18:34.492Z"
   },
   {
    "duration": 0,
    "start_time": "2023-03-23T12:18:34.493Z"
   },
   {
    "duration": 256618,
    "start_time": "2023-03-23T12:25:15.980Z"
   },
   {
    "duration": 115,
    "start_time": "2023-03-23T12:29:32.599Z"
   },
   {
    "duration": 0,
    "start_time": "2023-03-23T12:29:32.715Z"
   },
   {
    "duration": 0,
    "start_time": "2023-03-23T12:29:32.716Z"
   },
   {
    "duration": 0,
    "start_time": "2023-03-23T12:29:32.717Z"
   },
   {
    "duration": 0,
    "start_time": "2023-03-23T12:29:32.718Z"
   },
   {
    "duration": 267614,
    "start_time": "2023-03-23T12:34:21.594Z"
   },
   {
    "duration": 4,
    "start_time": "2023-03-23T12:38:49.210Z"
   },
   {
    "duration": 631771,
    "start_time": "2023-03-23T12:38:49.217Z"
   },
   {
    "duration": 1258388,
    "start_time": "2023-03-23T12:49:20.990Z"
   },
   {
    "duration": 0,
    "start_time": "2023-03-23T13:10:19.380Z"
   },
   {
    "duration": 1350,
    "start_time": "2023-03-23T13:26:14.761Z"
   },
   {
    "duration": 633,
    "start_time": "2023-03-23T13:26:16.113Z"
   },
   {
    "duration": 36,
    "start_time": "2023-03-23T13:26:16.747Z"
   },
   {
    "duration": 1105,
    "start_time": "2023-03-23T13:26:16.785Z"
   },
   {
    "duration": 35,
    "start_time": "2023-03-23T13:26:17.893Z"
   },
   {
    "duration": 602,
    "start_time": "2023-03-23T13:26:17.930Z"
   },
   {
    "duration": 83,
    "start_time": "2023-03-23T13:26:18.540Z"
   },
   {
    "duration": 937,
    "start_time": "2023-03-23T13:26:18.624Z"
   },
   {
    "duration": 216,
    "start_time": "2023-03-23T13:26:19.563Z"
   },
   {
    "duration": 4,
    "start_time": "2023-03-23T13:26:19.782Z"
   },
   {
    "duration": 4,
    "start_time": "2023-03-23T13:26:19.787Z"
   },
   {
    "duration": 9,
    "start_time": "2023-03-23T13:26:19.793Z"
   },
   {
    "duration": 3,
    "start_time": "2023-03-23T13:26:19.804Z"
   },
   {
    "duration": 6,
    "start_time": "2023-03-23T13:26:19.808Z"
   },
   {
    "duration": 33,
    "start_time": "2023-03-23T13:26:19.815Z"
   },
   {
    "duration": 24,
    "start_time": "2023-03-23T13:26:19.849Z"
   },
   {
    "duration": 10,
    "start_time": "2023-03-23T13:26:19.875Z"
   },
   {
    "duration": 14,
    "start_time": "2023-03-23T13:26:19.886Z"
   },
   {
    "duration": 63,
    "start_time": "2023-03-23T13:26:19.902Z"
   },
   {
    "duration": 5,
    "start_time": "2023-03-23T13:26:19.967Z"
   },
   {
    "duration": 6,
    "start_time": "2023-03-23T13:26:19.973Z"
   },
   {
    "duration": 189,
    "start_time": "2023-03-23T13:26:19.981Z"
   },
   {
    "duration": 640,
    "start_time": "2023-03-23T13:26:20.172Z"
   },
   {
    "duration": 2176,
    "start_time": "2023-03-23T13:26:20.814Z"
   },
   {
    "duration": 4,
    "start_time": "2023-03-23T13:26:22.992Z"
   },
   {
    "duration": 3,
    "start_time": "2023-03-23T13:26:22.998Z"
   },
   {
    "duration": 9,
    "start_time": "2023-03-23T13:26:23.002Z"
   },
   {
    "duration": 5,
    "start_time": "2023-03-23T13:26:23.014Z"
   },
   {
    "duration": 10505,
    "start_time": "2023-03-23T13:26:23.020Z"
   },
   {
    "duration": 203861,
    "start_time": "2023-03-23T13:26:33.527Z"
   },
   {
    "duration": 208092,
    "start_time": "2023-03-23T13:29:57.390Z"
   },
   {
    "duration": 4,
    "start_time": "2023-03-23T13:33:25.484Z"
   },
   {
    "duration": 608852,
    "start_time": "2023-03-23T13:33:25.489Z"
   },
   {
    "duration": 2542943,
    "start_time": "2023-03-23T13:43:34.343Z"
   },
   {
    "duration": 0,
    "start_time": "2023-03-23T14:25:57.288Z"
   },
   {
    "duration": 434074,
    "start_time": "2023-03-23T14:26:17.136Z"
   },
   {
    "duration": 417079,
    "start_time": "2023-03-23T14:33:31.212Z"
   },
   {
    "duration": 4,
    "start_time": "2023-03-23T14:40:28.292Z"
   },
   {
    "duration": 5468,
    "start_time": "2023-03-23T14:48:26.285Z"
   },
   {
    "duration": 3492,
    "start_time": "2023-03-23T15:02:30.348Z"
   },
   {
    "duration": 8,
    "start_time": "2023-03-23T15:02:33.845Z"
   },
   {
    "duration": 2695,
    "start_time": "2023-03-23T15:03:28.446Z"
   },
   {
    "duration": 2806,
    "start_time": "2023-03-23T15:04:20.235Z"
   },
   {
    "duration": 3130,
    "start_time": "2023-03-23T15:22:04.894Z"
   },
   {
    "duration": 7539,
    "start_time": "2023-03-23T15:23:41.501Z"
   },
   {
    "duration": 7057,
    "start_time": "2023-03-23T15:23:53.249Z"
   },
   {
    "duration": 4,
    "start_time": "2023-03-23T15:26:54.830Z"
   },
   {
    "duration": 14,
    "start_time": "2023-03-23T15:28:01.565Z"
   },
   {
    "duration": 11,
    "start_time": "2023-03-23T15:39:09.697Z"
   },
   {
    "duration": 7,
    "start_time": "2023-03-23T15:39:16.437Z"
   },
   {
    "duration": 8,
    "start_time": "2023-03-23T15:39:39.344Z"
   },
   {
    "duration": 6,
    "start_time": "2023-03-23T15:39:47.695Z"
   },
   {
    "duration": 7,
    "start_time": "2023-03-23T15:43:25.553Z"
   },
   {
    "duration": 3,
    "start_time": "2023-03-23T15:47:02.728Z"
   },
   {
    "duration": 10,
    "start_time": "2023-03-23T15:53:00.655Z"
   },
   {
    "duration": 10,
    "start_time": "2023-03-23T15:53:16.658Z"
   },
   {
    "duration": 10,
    "start_time": "2023-03-23T15:53:27.412Z"
   },
   {
    "duration": 5,
    "start_time": "2023-03-23T15:54:15.736Z"
   },
   {
    "duration": 3,
    "start_time": "2023-03-23T15:54:16.258Z"
   },
   {
    "duration": 7,
    "start_time": "2023-03-23T15:54:17.345Z"
   },
   {
    "duration": 2,
    "start_time": "2023-03-23T15:55:11.701Z"
   },
   {
    "duration": 5,
    "start_time": "2023-03-23T15:55:12.176Z"
   },
   {
    "duration": 4,
    "start_time": "2023-03-23T15:55:15.357Z"
   },
   {
    "duration": 3,
    "start_time": "2023-03-23T15:55:16.156Z"
   },
   {
    "duration": 6,
    "start_time": "2023-03-23T15:55:17.599Z"
   },
   {
    "duration": 5,
    "start_time": "2023-03-23T16:20:49.525Z"
   },
   {
    "duration": 6,
    "start_time": "2023-03-23T16:23:52.965Z"
   },
   {
    "duration": 1822,
    "start_time": "2023-03-24T13:09:22.384Z"
   },
   {
    "duration": 2797,
    "start_time": "2023-03-24T13:09:24.209Z"
   },
   {
    "duration": 51,
    "start_time": "2023-03-24T13:09:27.008Z"
   },
   {
    "duration": 1278,
    "start_time": "2023-03-24T13:09:27.062Z"
   },
   {
    "duration": 43,
    "start_time": "2023-03-24T13:09:28.342Z"
   },
   {
    "duration": 717,
    "start_time": "2023-03-24T13:09:28.387Z"
   },
   {
    "duration": 135,
    "start_time": "2023-03-24T13:09:29.106Z"
   },
   {
    "duration": 1007,
    "start_time": "2023-03-24T13:09:29.243Z"
   },
   {
    "duration": 241,
    "start_time": "2023-03-24T13:09:30.252Z"
   },
   {
    "duration": 5,
    "start_time": "2023-03-24T13:09:30.496Z"
   },
   {
    "duration": 45,
    "start_time": "2023-03-24T13:09:30.503Z"
   },
   {
    "duration": 50,
    "start_time": "2023-03-24T13:09:30.550Z"
   },
   {
    "duration": 31,
    "start_time": "2023-03-24T13:09:30.602Z"
   },
   {
    "duration": 41,
    "start_time": "2023-03-24T13:09:30.635Z"
   },
   {
    "duration": 56,
    "start_time": "2023-03-24T13:09:30.678Z"
   },
   {
    "duration": 48,
    "start_time": "2023-03-24T13:09:30.736Z"
   },
   {
    "duration": 64,
    "start_time": "2023-03-24T13:09:30.786Z"
   },
   {
    "duration": 56,
    "start_time": "2023-03-24T13:09:30.851Z"
   },
   {
    "duration": 57,
    "start_time": "2023-03-24T13:09:30.909Z"
   },
   {
    "duration": 28,
    "start_time": "2023-03-24T13:09:30.968Z"
   },
   {
    "duration": 48,
    "start_time": "2023-03-24T13:09:30.997Z"
   },
   {
    "duration": 261,
    "start_time": "2023-03-24T13:09:31.047Z"
   },
   {
    "duration": 761,
    "start_time": "2023-03-24T13:09:31.309Z"
   },
   {
    "duration": 2212,
    "start_time": "2023-03-24T13:09:32.072Z"
   },
   {
    "duration": 3,
    "start_time": "2023-03-24T13:22:10.513Z"
   },
   {
    "duration": 140,
    "start_time": "2023-03-24T13:22:47.896Z"
   },
   {
    "duration": 19,
    "start_time": "2023-03-24T13:22:55.809Z"
   },
   {
    "duration": 22,
    "start_time": "2023-03-24T13:23:28.607Z"
   },
   {
    "duration": 35,
    "start_time": "2023-03-24T13:24:12.149Z"
   },
   {
    "duration": 3,
    "start_time": "2023-03-24T13:24:28.683Z"
   },
   {
    "duration": 5,
    "start_time": "2023-03-24T13:24:29.262Z"
   },
   {
    "duration": 5,
    "start_time": "2023-03-24T13:24:41.063Z"
   },
   {
    "duration": 1224,
    "start_time": "2023-03-24T13:26:50.383Z"
   },
   {
    "duration": 4,
    "start_time": "2023-03-24T13:27:10.501Z"
   },
   {
    "duration": 28,
    "start_time": "2023-03-24T13:28:15.720Z"
   },
   {
    "duration": 26,
    "start_time": "2023-03-24T13:29:56.394Z"
   },
   {
    "duration": 995,
    "start_time": "2023-03-24T13:38:26.736Z"
   },
   {
    "duration": 36,
    "start_time": "2023-03-24T13:39:28.783Z"
   },
   {
    "duration": 3,
    "start_time": "2023-03-24T13:39:29.840Z"
   },
   {
    "duration": 11,
    "start_time": "2023-03-24T13:39:31.376Z"
   },
   {
    "duration": 5350,
    "start_time": "2023-03-24T13:40:07.822Z"
   },
   {
    "duration": 24,
    "start_time": "2023-03-24T13:40:25.724Z"
   },
   {
    "duration": 8,
    "start_time": "2023-03-24T13:40:29.122Z"
   },
   {
    "duration": 10,
    "start_time": "2023-03-24T13:43:08.280Z"
   },
   {
    "duration": 1086,
    "start_time": "2023-03-24T13:46:33.626Z"
   },
   {
    "duration": 33,
    "start_time": "2023-03-24T13:46:54.472Z"
   },
   {
    "duration": 1007,
    "start_time": "2023-03-24T13:46:58.174Z"
   },
   {
    "duration": 3,
    "start_time": "2023-03-24T13:47:36.829Z"
   },
   {
    "duration": 4,
    "start_time": "2023-03-24T13:47:37.309Z"
   },
   {
    "duration": 29,
    "start_time": "2023-03-24T13:47:37.855Z"
   },
   {
    "duration": 3,
    "start_time": "2023-03-24T13:47:38.846Z"
   },
   {
    "duration": 10,
    "start_time": "2023-03-24T13:47:39.938Z"
   },
   {
    "duration": 1074,
    "start_time": "2023-03-24T13:47:40.460Z"
   },
   {
    "duration": 0,
    "start_time": "2023-03-24T13:47:41.536Z"
   },
   {
    "duration": 9,
    "start_time": "2023-03-24T13:47:49.137Z"
   },
   {
    "duration": 6,
    "start_time": "2023-03-24T13:48:10.204Z"
   },
   {
    "duration": 4,
    "start_time": "2023-03-24T13:48:49.179Z"
   },
   {
    "duration": 746,
    "start_time": "2023-03-24T13:48:49.185Z"
   },
   {
    "duration": 40,
    "start_time": "2023-03-24T13:48:49.933Z"
   },
   {
    "duration": 1139,
    "start_time": "2023-03-24T13:48:49.975Z"
   },
   {
    "duration": 34,
    "start_time": "2023-03-24T13:48:51.117Z"
   },
   {
    "duration": 775,
    "start_time": "2023-03-24T13:48:51.153Z"
   },
   {
    "duration": 52,
    "start_time": "2023-03-24T13:48:51.930Z"
   },
   {
    "duration": 1046,
    "start_time": "2023-03-24T13:48:51.985Z"
   },
   {
    "duration": 251,
    "start_time": "2023-03-24T13:48:53.033Z"
   },
   {
    "duration": 5,
    "start_time": "2023-03-24T13:48:53.286Z"
   },
   {
    "duration": 14,
    "start_time": "2023-03-24T13:48:53.294Z"
   },
   {
    "duration": 9,
    "start_time": "2023-03-24T13:48:53.316Z"
   },
   {
    "duration": 5,
    "start_time": "2023-03-24T13:48:53.327Z"
   },
   {
    "duration": 16,
    "start_time": "2023-03-24T13:48:53.334Z"
   },
   {
    "duration": 23,
    "start_time": "2023-03-24T13:48:53.352Z"
   },
   {
    "duration": 44,
    "start_time": "2023-03-24T13:48:53.377Z"
   },
   {
    "duration": 14,
    "start_time": "2023-03-24T13:48:53.423Z"
   },
   {
    "duration": 27,
    "start_time": "2023-03-24T13:48:53.439Z"
   },
   {
    "duration": 150,
    "start_time": "2023-03-24T13:48:53.468Z"
   },
   {
    "duration": 8,
    "start_time": "2023-03-24T13:48:53.620Z"
   },
   {
    "duration": 13,
    "start_time": "2023-03-24T13:48:53.630Z"
   },
   {
    "duration": 243,
    "start_time": "2023-03-24T13:48:53.645Z"
   },
   {
    "duration": 717,
    "start_time": "2023-03-24T13:48:53.890Z"
   },
   {
    "duration": 2189,
    "start_time": "2023-03-24T13:48:54.609Z"
   },
   {
    "duration": 5,
    "start_time": "2023-03-24T13:48:56.800Z"
   },
   {
    "duration": 17,
    "start_time": "2023-03-24T13:48:56.807Z"
   },
   {
    "duration": 44,
    "start_time": "2023-03-24T13:48:56.826Z"
   },
   {
    "duration": 3,
    "start_time": "2023-03-24T13:49:06.261Z"
   },
   {
    "duration": 9,
    "start_time": "2023-03-24T13:49:07.081Z"
   },
   {
    "duration": 4,
    "start_time": "2023-03-24T13:49:07.567Z"
   },
   {
    "duration": 10,
    "start_time": "2023-03-24T13:49:11.480Z"
   },
   {
    "duration": 10,
    "start_time": "2023-03-24T13:49:14.219Z"
   },
   {
    "duration": 18,
    "start_time": "2023-03-24T13:49:16.581Z"
   },
   {
    "duration": 296,
    "start_time": "2023-03-24T13:49:36.285Z"
   },
   {
    "duration": 10,
    "start_time": "2023-03-24T13:50:07.809Z"
   },
   {
    "duration": 158,
    "start_time": "2023-03-24T13:50:24.735Z"
   },
   {
    "duration": 581,
    "start_time": "2023-03-24T13:50:41.150Z"
   },
   {
    "duration": 633,
    "start_time": "2023-03-24T13:50:51.784Z"
   },
   {
    "duration": 214,
    "start_time": "2023-03-24T13:51:35.976Z"
   },
   {
    "duration": 594,
    "start_time": "2023-03-24T13:52:01.755Z"
   },
   {
    "duration": 215,
    "start_time": "2023-03-24T13:52:18.978Z"
   },
   {
    "duration": 598,
    "start_time": "2023-03-24T13:52:27.768Z"
   },
   {
    "duration": 539,
    "start_time": "2023-03-24T13:52:47.102Z"
   },
   {
    "duration": 659,
    "start_time": "2023-03-24T13:53:20.685Z"
   },
   {
    "duration": 643,
    "start_time": "2023-03-24T13:53:24.987Z"
   },
   {
    "duration": 331,
    "start_time": "2023-03-24T13:53:51.348Z"
   },
   {
    "duration": 4,
    "start_time": "2023-03-24T13:54:05.919Z"
   },
   {
    "duration": 768,
    "start_time": "2023-03-24T13:54:05.925Z"
   },
   {
    "duration": 43,
    "start_time": "2023-03-24T13:54:06.695Z"
   },
   {
    "duration": 1136,
    "start_time": "2023-03-24T13:54:06.740Z"
   },
   {
    "duration": 50,
    "start_time": "2023-03-24T13:54:07.879Z"
   },
   {
    "duration": 717,
    "start_time": "2023-03-24T13:54:07.931Z"
   },
   {
    "duration": 35,
    "start_time": "2023-03-24T13:54:08.650Z"
   },
   {
    "duration": 968,
    "start_time": "2023-03-24T13:54:08.687Z"
   },
   {
    "duration": 233,
    "start_time": "2023-03-24T13:54:09.657Z"
   },
   {
    "duration": 4,
    "start_time": "2023-03-24T13:54:09.892Z"
   },
   {
    "duration": 18,
    "start_time": "2023-03-24T13:54:09.899Z"
   },
   {
    "duration": 14,
    "start_time": "2023-03-24T13:54:09.919Z"
   },
   {
    "duration": 13,
    "start_time": "2023-03-24T13:54:09.935Z"
   },
   {
    "duration": 22,
    "start_time": "2023-03-24T13:54:09.950Z"
   },
   {
    "duration": 20,
    "start_time": "2023-03-24T13:54:09.974Z"
   },
   {
    "duration": 33,
    "start_time": "2023-03-24T13:54:09.996Z"
   },
   {
    "duration": 11,
    "start_time": "2023-03-24T13:54:10.031Z"
   },
   {
    "duration": 20,
    "start_time": "2023-03-24T13:54:10.044Z"
   },
   {
    "duration": 34,
    "start_time": "2023-03-24T13:54:10.066Z"
   },
   {
    "duration": 20,
    "start_time": "2023-03-24T13:54:10.102Z"
   },
   {
    "duration": 18,
    "start_time": "2023-03-24T13:54:10.124Z"
   },
   {
    "duration": 205,
    "start_time": "2023-03-24T13:54:10.144Z"
   },
   {
    "duration": 634,
    "start_time": "2023-03-24T13:54:10.351Z"
   },
   {
    "duration": 2233,
    "start_time": "2023-03-24T13:54:10.987Z"
   },
   {
    "duration": 4,
    "start_time": "2023-03-24T13:54:13.222Z"
   },
   {
    "duration": 24,
    "start_time": "2023-03-24T13:54:13.228Z"
   },
   {
    "duration": 60,
    "start_time": "2023-03-24T13:54:13.254Z"
   },
   {
    "duration": 3,
    "start_time": "2023-03-24T13:54:13.316Z"
   },
   {
    "duration": 580,
    "start_time": "2023-03-24T13:54:13.323Z"
   },
   {
    "duration": 624,
    "start_time": "2023-03-24T13:54:13.905Z"
   },
   {
    "duration": 208,
    "start_time": "2023-03-24T13:54:14.531Z"
   },
   {
    "duration": 14,
    "start_time": "2023-03-24T13:54:14.741Z"
   },
   {
    "duration": 573,
    "start_time": "2023-03-24T13:54:14.757Z"
   },
   {
    "duration": 234,
    "start_time": "2023-03-24T13:54:15.333Z"
   },
   {
    "duration": 509,
    "start_time": "2023-03-24T13:54:15.568Z"
   },
   {
    "duration": 8,
    "start_time": "2023-03-24T13:58:48.151Z"
   },
   {
    "duration": 1455,
    "start_time": "2023-03-24T14:06:53.680Z"
   },
   {
    "duration": 752,
    "start_time": "2023-03-24T14:06:55.137Z"
   },
   {
    "duration": 51,
    "start_time": "2023-03-24T14:06:55.890Z"
   },
   {
    "duration": 1100,
    "start_time": "2023-03-24T14:06:55.943Z"
   },
   {
    "duration": 30,
    "start_time": "2023-03-24T14:06:57.046Z"
   },
   {
    "duration": 770,
    "start_time": "2023-03-24T14:06:57.078Z"
   },
   {
    "duration": 132,
    "start_time": "2023-03-24T14:06:57.851Z"
   },
   {
    "duration": 950,
    "start_time": "2023-03-24T14:06:57.985Z"
   },
   {
    "duration": 250,
    "start_time": "2023-03-24T14:06:58.937Z"
   },
   {
    "duration": 5,
    "start_time": "2023-03-24T14:06:59.188Z"
   },
   {
    "duration": 21,
    "start_time": "2023-03-24T14:06:59.195Z"
   },
   {
    "duration": 18,
    "start_time": "2023-03-24T14:06:59.219Z"
   },
   {
    "duration": 4,
    "start_time": "2023-03-24T14:06:59.239Z"
   },
   {
    "duration": 9,
    "start_time": "2023-03-24T14:06:59.246Z"
   },
   {
    "duration": 16,
    "start_time": "2023-03-24T14:06:59.257Z"
   },
   {
    "duration": 45,
    "start_time": "2023-03-24T14:06:59.275Z"
   },
   {
    "duration": 14,
    "start_time": "2023-03-24T14:06:59.321Z"
   },
   {
    "duration": 23,
    "start_time": "2023-03-24T14:06:59.336Z"
   },
   {
    "duration": 26,
    "start_time": "2023-03-24T14:06:59.361Z"
   },
   {
    "duration": 5,
    "start_time": "2023-03-24T14:06:59.389Z"
   },
   {
    "duration": 58,
    "start_time": "2023-03-24T14:06:59.395Z"
   },
   {
    "duration": 237,
    "start_time": "2023-03-24T14:06:59.455Z"
   },
   {
    "duration": 665,
    "start_time": "2023-03-24T14:06:59.694Z"
   },
   {
    "duration": 2140,
    "start_time": "2023-03-24T14:07:00.360Z"
   },
   {
    "duration": 4,
    "start_time": "2023-03-24T14:07:02.502Z"
   },
   {
    "duration": 20,
    "start_time": "2023-03-24T14:07:02.508Z"
   },
   {
    "duration": 51,
    "start_time": "2023-03-24T14:07:02.530Z"
   },
   {
    "duration": 17,
    "start_time": "2023-03-24T14:07:02.583Z"
   },
   {
    "duration": 617,
    "start_time": "2023-03-24T14:07:02.602Z"
   },
   {
    "duration": 496,
    "start_time": "2023-03-24T14:07:03.221Z"
   },
   {
    "duration": 204,
    "start_time": "2023-03-24T14:07:03.719Z"
   },
   {
    "duration": 20,
    "start_time": "2023-03-24T14:07:03.925Z"
   },
   {
    "duration": 559,
    "start_time": "2023-03-24T14:07:03.947Z"
   },
   {
    "duration": 229,
    "start_time": "2023-03-24T14:07:04.508Z"
   },
   {
    "duration": 532,
    "start_time": "2023-03-24T14:07:04.739Z"
   },
   {
    "duration": 8,
    "start_time": "2023-03-24T14:07:05.273Z"
   },
   {
    "duration": 11,
    "start_time": "2023-03-24T14:07:05.283Z"
   },
   {
    "duration": 41,
    "start_time": "2023-03-24T14:07:05.295Z"
   },
   {
    "duration": 21,
    "start_time": "2023-03-24T14:07:05.337Z"
   },
   {
    "duration": 28,
    "start_time": "2023-03-24T14:07:05.360Z"
   },
   {
    "duration": 9187,
    "start_time": "2023-03-24T14:07:05.392Z"
   },
   {
    "duration": 179748,
    "start_time": "2023-03-24T14:07:14.581Z"
   },
   {
    "duration": 179591,
    "start_time": "2023-03-24T14:10:14.331Z"
   },
   {
    "duration": 4,
    "start_time": "2023-03-24T14:13:13.924Z"
   },
   {
    "duration": 540507,
    "start_time": "2023-03-24T14:13:13.930Z"
   },
   {
    "duration": 388620,
    "start_time": "2023-03-24T14:22:14.439Z"
   },
   {
    "duration": 407746,
    "start_time": "2023-03-24T14:28:43.061Z"
   },
   {
    "duration": 10,
    "start_time": "2023-03-24T14:35:30.809Z"
   },
   {
    "duration": 3113,
    "start_time": "2023-03-24T14:35:30.821Z"
   },
   {
    "duration": 5291,
    "start_time": "2023-03-24T14:35:33.937Z"
   },
   {
    "duration": 10,
    "start_time": "2023-03-24T14:35:39.234Z"
   },
   {
    "duration": 7384,
    "start_time": "2023-03-24T14:35:39.247Z"
   },
   {
    "duration": 8,
    "start_time": "2023-03-24T14:35:46.641Z"
   },
   {
    "duration": 22,
    "start_time": "2023-03-24T14:35:46.651Z"
   },
   {
    "duration": 7,
    "start_time": "2023-03-24T14:35:46.675Z"
   },
   {
    "duration": 9,
    "start_time": "2023-03-24T14:35:46.683Z"
   },
   {
    "duration": 14,
    "start_time": "2023-03-24T14:35:46.694Z"
   },
   {
    "duration": 22,
    "start_time": "2023-03-24T14:35:46.710Z"
   },
   {
    "duration": 22,
    "start_time": "2023-03-24T14:35:46.734Z"
   }
  ],
  "kernelspec": {
   "display_name": "Python 3 (ipykernel)",
   "language": "python",
   "name": "python3"
  },
  "language_info": {
   "codemirror_mode": {
    "name": "ipython",
    "version": 3
   },
   "file_extension": ".py",
   "mimetype": "text/x-python",
   "name": "python",
   "nbconvert_exporter": "python",
   "pygments_lexer": "ipython3",
   "version": "3.9.5"
  },
  "toc": {
   "base_numbering": 1,
   "nav_menu": {},
   "number_sections": true,
   "sideBar": true,
   "skip_h1_title": true,
   "title_cell": "Содержание",
   "title_sidebar": "Contents",
   "toc_cell": true,
   "toc_position": {
    "height": "calc(100% - 180px)",
    "left": "10px",
    "top": "150px",
    "width": "165px"
   },
   "toc_section_display": true,
   "toc_window_display": true
  }
 },
 "nbformat": 4,
 "nbformat_minor": 2
}
